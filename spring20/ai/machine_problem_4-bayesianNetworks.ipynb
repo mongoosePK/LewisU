{
 "cells": [
  {
   "cell_type": "markdown",
   "metadata": {},
   "source": [
    "#### Name: William Pulkownik\n",
    "#### Date: 1MAY2020\n",
    "#### Course: SP20-CPSC-47000-001\n",
    "#### Assignment: MP4.py"
   ]
  },
  {
   "cell_type": "code",
   "execution_count": 1,
   "metadata": {},
   "outputs": [],
   "source": [
    "import pyAgrum as gum\n",
    "import pyAgrum.lib.notebook as gnb"
   ]
  },
  {
   "cell_type": "markdown",
   "metadata": {},
   "source": [
    "## Step 2 - Create an empty BayesNet with a specified name"
   ]
  },
  {
   "cell_type": "code",
   "execution_count": 2,
   "metadata": {},
   "outputs": [],
   "source": [
    "bn=gum.fastBN(\"fraud->jewelry;fraud->gas;age[3]->jewelry<-sex;\")"
   ]
  },
  {
   "cell_type": "code",
   "execution_count": 16,
   "metadata": {},
   "outputs": [],
   "source": [
    "#Fraud Conditional Probability Table\n",
    "bn.cpt('fraud').fillWith([.99,.01])\n",
    "#Age CPT\n",
    "bn.cpt('age').fillWith([.25,.4,.35] )\n",
    "#Sex CPT\n",
    "bn.cpt('sex').fillWith([.5,.5])\n",
    "#Gas CPT\n",
    "bn.cpt('gas')[{'fraud':0}] = [.99,.01]\n",
    "bn.cpt('gas')[{'fraud':1}] = [.8,.2]\n",
    "#Jewelry CPT\n",
    "bn.cpt('jewelry')[{'age': 0, 'sex': 0, 'fraud': 0}] = [0.9999, 0.0001]\n",
    "bn.cpt('jewelry')[{'age': 0, 'sex': 0, 'fraud': 1}] = [0.95, 0.05]\n",
    "bn.cpt('jewelry')[{'age': 0, 'sex': 1, 'fraud': 0}] = [0.9995, 0.0005]\n",
    "bn.cpt('jewelry')[{'age': 0, 'sex': 1, 'fraud': 1}] = [0.95, 0.05]\n",
    "\n",
    "bn.cpt('jewelry')[{'age': 1, 'sex': 0, 'fraud': 0}] = [0.9996, 0.0004]\n",
    "bn.cpt('jewelry')[{'age': 1, 'sex': 0, 'fraud': 1}] = [0.95, 0.05]\n",
    "bn.cpt('jewelry')[{'age': 1, 'sex': 1, 'fraud': 0}] = [0.998, 0.002]\n",
    "bn.cpt('jewelry')[{'age': 1, 'sex': 1, 'fraud': 1}] = [0.95, 0.05]\n",
    "\n",
    "bn.cpt('jewelry')[{'age': 2, 'sex': 0, 'fraud': 0}] = [0.9998, 0.0002]\n",
    "bn.cpt('jewelry')[{'age': 2, 'sex': 0, 'fraud': 1}] = [0.95, 0.05]\n",
    "bn.cpt('jewelry')[{'age': 2, 'sex': 1, 'fraud': 0}] = [0.999, 0.001]\n",
    "bn.cpt('jewelry')[{'age': 2, 'sex': 1, 'fraud': 1}] = [0.95, 0.05]\n",
    "\n",
    "# Condition template #\n",
    "# bn.cpt('')[{'':}] = []\n"
   ]
  },
  {
   "cell_type": "code",
   "execution_count": 28,
   "metadata": {},
   "outputs": [
    {
     "data": {
      "text/html": [
       "<svg height=\"116pt\" viewBox=\"0.00 0.00 214.25 116.00\" width=\"214pt\" xmlns=\"http://www.w3.org/2000/svg\" xmlns:xlink=\"http://www.w3.org/1999/xlink\">\n",
       "<g class=\"graph\" id=\"graph0\" transform=\"scale(1 1) rotate(0) translate(4 112)\">\n",
       "<title>G</title>\n",
       "<!-- fraud -->\n",
       "<g class=\"node\" id=\"node1\">\n",
       "<title>fraud</title>\n",
       "<g id=\"a_node1\"><a xlink:title=\"(0) fraud\">\n",
       "<ellipse cx=\"177\" cy=\"-90\" fill=\"#404040\" rx=\"29.4969\" ry=\"18\" stroke=\"#000000\"/>\n",
       "<text fill=\"#ffffff\" font-family=\"Times,serif\" font-size=\"14.00\" text-anchor=\"middle\" x=\"177\" y=\"-86.3\">fraud</text>\n",
       "</a>\n",
       "</g>\n",
       "</g>\n",
       "<!-- jewelry -->\n",
       "<g class=\"node\" id=\"node2\">\n",
       "<title>jewelry</title>\n",
       "<g id=\"a_node2\"><a xlink:title=\"(1) jewelry\">\n",
       "<ellipse cx=\"97\" cy=\"-18\" fill=\"#404040\" rx=\"37.0935\" ry=\"18\" stroke=\"#000000\"/>\n",
       "<text fill=\"#ffffff\" font-family=\"Times,serif\" font-size=\"14.00\" text-anchor=\"middle\" x=\"97\" y=\"-14.3\">jewelry</text>\n",
       "</a>\n",
       "</g>\n",
       "</g>\n",
       "<!-- fraud&#45;&gt;jewelry -->\n",
       "<g class=\"edge\" id=\"edge1\">\n",
       "<title>fraud-&gt;jewelry</title>\n",
       "<g id=\"a_edge1\"><a xlink:title=\"(0, 1) : \">\n",
       "<path d=\"M160.4239,-75.0816C149.357,-65.1213 134.5965,-51.8368 122.0998,-40.5898\" fill=\"none\" stroke=\"#4a4a4a\"/>\n",
       "<polygon fill=\"#4a4a4a\" points=\"124.439,-37.9863 114.6647,-33.8982 119.7562,-43.1894 124.439,-37.9863\" stroke=\"#4a4a4a\"/>\n",
       "</a>\n",
       "</g>\n",
       "</g>\n",
       "<!-- gas -->\n",
       "<g class=\"node\" id=\"node3\">\n",
       "<title>gas</title>\n",
       "<g id=\"a_node3\"><a xlink:title=\"(2) gas\">\n",
       "<ellipse cx=\"179\" cy=\"-18\" fill=\"#404040\" rx=\"27\" ry=\"18\" stroke=\"#000000\"/>\n",
       "<text fill=\"#ffffff\" font-family=\"Times,serif\" font-size=\"14.00\" text-anchor=\"middle\" x=\"179\" y=\"-14.3\">gas</text>\n",
       "</a>\n",
       "</g>\n",
       "</g>\n",
       "<!-- fraud&#45;&gt;gas -->\n",
       "<g class=\"edge\" id=\"edge4\">\n",
       "<title>fraud-&gt;gas</title>\n",
       "<g id=\"a_edge4\"><a xlink:title=\"(0, 2) : \">\n",
       "<path d=\"M177.5047,-71.8314C177.7186,-64.131 177.9729,-54.9743 178.2106,-46.4166\" fill=\"none\" stroke=\"#4a4a4a\"/>\n",
       "<polygon fill=\"#4a4a4a\" points=\"181.7094,-46.5066 178.4885,-36.4133 174.7121,-46.3122 181.7094,-46.5066\" stroke=\"#4a4a4a\"/>\n",
       "</a>\n",
       "</g>\n",
       "</g>\n",
       "<!-- age -->\n",
       "<g class=\"node\" id=\"node4\">\n",
       "<title>age</title>\n",
       "<g id=\"a_node4\"><a xlink:title=\"(3) age\">\n",
       "<ellipse cx=\"27\" cy=\"-90\" fill=\"#404040\" rx=\"27\" ry=\"18\" stroke=\"#000000\"/>\n",
       "<text fill=\"#ffffff\" font-family=\"Times,serif\" font-size=\"14.00\" text-anchor=\"middle\" x=\"27\" y=\"-86.3\">age</text>\n",
       "</a>\n",
       "</g>\n",
       "</g>\n",
       "<!-- age&#45;&gt;jewelry -->\n",
       "<g class=\"edge\" id=\"edge2\">\n",
       "<title>age-&gt;jewelry</title>\n",
       "<g id=\"a_edge2\"><a xlink:title=\"(3, 1) : \">\n",
       "<path d=\"M41.8452,-74.7307C51.171,-65.1384 63.3928,-52.5674 73.9608,-41.6974\" fill=\"none\" stroke=\"#4a4a4a\"/>\n",
       "<polygon fill=\"#4a4a4a\" points=\"76.4957,-44.1111 80.957,-34.5013 71.4767,-39.2315 76.4957,-44.1111\" stroke=\"#4a4a4a\"/>\n",
       "</a>\n",
       "</g>\n",
       "</g>\n",
       "<!-- sex -->\n",
       "<g class=\"node\" id=\"node5\">\n",
       "<title>sex</title>\n",
       "<g id=\"a_node5\"><a xlink:title=\"(4) sex\">\n",
       "<ellipse cx=\"99\" cy=\"-90\" fill=\"#404040\" rx=\"27\" ry=\"18\" stroke=\"#000000\"/>\n",
       "<text fill=\"#ffffff\" font-family=\"Times,serif\" font-size=\"14.00\" text-anchor=\"middle\" x=\"99\" y=\"-86.3\">sex</text>\n",
       "</a>\n",
       "</g>\n",
       "</g>\n",
       "<!-- sex&#45;&gt;jewelry -->\n",
       "<g class=\"edge\" id=\"edge3\">\n",
       "<title>sex-&gt;jewelry</title>\n",
       "<g id=\"a_edge3\"><a xlink:title=\"(4, 1) : \">\n",
       "<path d=\"M98.4953,-71.8314C98.2814,-64.131 98.0271,-54.9743 97.7894,-46.4166\" fill=\"none\" stroke=\"#4a4a4a\"/>\n",
       "<polygon fill=\"#4a4a4a\" points=\"101.2879,-46.3122 97.5115,-36.4133 94.2906,-46.5066 101.2879,-46.3122\" stroke=\"#4a4a4a\"/>\n",
       "</a>\n",
       "</g>\n",
       "</g>\n",
       "</g>\n",
       "</svg>"
      ],
      "text/plain": [
       "(gum::BayesNet<double>@0x20ac690) BN{nodes: 5, arcs: 4, domainSize: 48, dim: 35}"
      ]
     },
     "execution_count": 28,
     "metadata": {},
     "output_type": "execute_result"
    }
   ],
   "source": [
    "bn    "
   ]
  },
  {
   "cell_type": "markdown",
   "metadata": {},
   "source": [
    "##### B) list the variables, max and minimize possibiility of fraud, list Probabilities"
   ]
  },
  {
   "cell_type": "code",
   "execution_count": 15,
   "metadata": {},
   "outputs": [
    {
     "data": {
      "text/plain": [
       "['sex', 'age', 'fraud', 'jewelry']"
      ]
     },
     "execution_count": 15,
     "metadata": {},
     "output_type": "execute_result"
    }
   ],
   "source": [
    "bn.cpt('jewelry').var_names"
   ]
  },
  {
   "cell_type": "markdown",
   "metadata": {},
   "source": [
    "maximize fraud"
   ]
  },
  {
   "cell_type": "code",
   "execution_count": 26,
   "metadata": {},
   "outputs": [
    {
     "data": {
      "text/html": [
       "<table style=\"border:1px solid black;\">\n",
       "<tr style='border:1px solid black;color:black;background-color:#808080'><th colspan='2'><center>fraud</center></th></tr>\n",
       "<tr><th style='border:1px solid black;border-bottom-style: double;color:black;background-color:#BBBBBB'><center>0</center></th><th style='border:1px solid black;border-bottom-style: double;color:black;background-color:#BBBBBB'><center>1</center></th></tr>\n",
       "<tr><td style='color:black;background-color:#fd8064;text-align:right;'>0.0098</td><td style='color:black;background-color:#80fd64;text-align:right;'>0.9902</td></tr>\n",
       "</table>"
      ],
      "text/plain": [
       "(gum::Potential<double>@0x1ed3560) <fraud:0> :: 0.00980295 /<fraud:1> :: 0.990197"
      ]
     },
     "execution_count": 26,
     "metadata": {},
     "output_type": "execute_result"
    }
   ],
   "source": [
    "ie.setEvidence({'age':0, 'sex':0, 'gas':1, 'jewelry': 1}) # hard evidence\n",
    "ie.makeInference()\n",
    "ie.posterior('fraud')"
   ]
  },
  {
   "cell_type": "markdown",
   "metadata": {},
   "source": [
    "minimize fraud"
   ]
  },
  {
   "cell_type": "code",
   "execution_count": 27,
   "metadata": {},
   "outputs": [
    {
     "data": {
      "text/html": [
       "<table style=\"border:1px solid black;\">\n",
       "<tr style='border:1px solid black;color:black;background-color:#808080'><th colspan='2'><center>fraud</center></th></tr>\n",
       "<tr><th style='border:1px solid black;border-bottom-style: double;color:black;background-color:#BBBBBB'><center>0</center></th><th style='border:1px solid black;border-bottom-style: double;color:black;background-color:#BBBBBB'><center>1</center></th></tr>\n",
       "<tr><td style='color:black;background-color:#7ffe64;text-align:right;'>0.9923</td><td style='color:black;background-color:#fe7f64;text-align:right;'>0.0077</td></tr>\n",
       "</table>"
      ],
      "text/plain": [
       "(gum::Potential<double>@0x243afa0) <fraud:0> :: 0.992298 /<fraud:1> :: 0.00770229"
      ]
     },
     "execution_count": 27,
     "metadata": {},
     "output_type": "execute_result"
    }
   ],
   "source": [
    "ie.setEvidence({'age':2, 'sex':1, 'gas':0, 'jewelry': 0}) # hard evidence\n",
    "ie.makeInference()\n",
    "ie.posterior('fraud')"
   ]
  },
  {
   "cell_type": "markdown",
   "metadata": {},
   "source": [
    "##### C) Compute the probabilites"
   ]
  },
  {
   "cell_type": "code",
   "execution_count": 19,
   "metadata": {},
   "outputs": [],
   "source": [
    "ie=gum.LazyPropagation(bn)"
   ]
  },
  {
   "cell_type": "markdown",
   "metadata": {},
   "source": [
    "P(Fraud|gas,jewelry)"
   ]
  },
  {
   "cell_type": "code",
   "execution_count": 21,
   "metadata": {},
   "outputs": [
    {
     "data": {
      "text/html": [
       "<table style=\"border:1px solid black;\">\n",
       "<tr style='border:1px solid black;color:black;background-color:#808080'><th colspan='2'><center>fraud</center></th></tr>\n",
       "<tr><th style='border:1px solid black;border-bottom-style: double;color:black;background-color:#BBBBBB'><center>0</center></th><th style='border:1px solid black;border-bottom-style: double;color:black;background-color:#BBBBBB'><center>1</center></th></tr>\n",
       "<tr><td style='color:black;background-color:#f58864;text-align:right;'>0.0704</td><td style='color:black;background-color:#88f564;text-align:right;'>0.9296</td></tr>\n",
       "</table>"
      ],
      "text/plain": [
       "(gum::Potential<double>@0x1de7b10) <fraud:0> :: 0.070403 /<fraud:1> :: 0.929597"
      ]
     },
     "execution_count": 21,
     "metadata": {},
     "output_type": "execute_result"
    }
   ],
   "source": [
    "ie.setEvidence({'gas':1, 'jewelry': 1}) # hard evidence\n",
    "ie.makeInference()\n",
    "ie.posterior('fraud')"
   ]
  },
  {
   "cell_type": "markdown",
   "metadata": {},
   "source": [
    "P(Fraud|gas,-jewelry)"
   ]
  },
  {
   "cell_type": "code",
   "execution_count": 22,
   "metadata": {},
   "outputs": [
    {
     "data": {
      "text/html": [
       "<table style=\"border:1px solid black;\">\n",
       "<tr style='border:1px solid black;color:black;background-color:#808080'><th colspan='2'><center>fraud</center></th></tr>\n",
       "<tr><th style='border:1px solid black;border-bottom-style: double;color:black;background-color:#BBBBBB'><center>0</center></th><th style='border:1px solid black;border-bottom-style: double;color:black;background-color:#BBBBBB'><center>1</center></th></tr>\n",
       "<tr><td style='color:black;background-color:#93ea64;text-align:right;'>0.8389</td><td style='color:black;background-color:#ea9364;text-align:right;'>0.1611</td></tr>\n",
       "</table>"
      ],
      "text/plain": [
       "(gum::Potential<double>@0x1a0a4c0) <fraud:0> :: 0.83888 /<fraud:1> :: 0.16112"
      ]
     },
     "execution_count": 22,
     "metadata": {},
     "output_type": "execute_result"
    }
   ],
   "source": [
    "ie.setEvidence({'gas':1, 'jewelry': 0}) # hard evidence\n",
    "ie.makeInference()\n",
    "ie.posterior('fraud')"
   ]
  },
  {
   "cell_type": "markdown",
   "metadata": {},
   "source": [
    "P(Fraud|-gas,jewelry)"
   ]
  },
  {
   "cell_type": "code",
   "execution_count": 23,
   "metadata": {},
   "outputs": [
    {
     "data": {
      "text/html": [
       "<table style=\"border:1px solid black;\">\n",
       "<tr style='border:1px solid black;color:black;background-color:#808080'><th colspan='2'><center>fraud</center></th></tr>\n",
       "<tr><th style='border:1px solid black;border-bottom-style: double;color:black;background-color:#BBBBBB'><center>0</center></th><th style='border:1px solid black;border-bottom-style: double;color:black;background-color:#BBBBBB'><center>1</center></th></tr>\n",
       "<tr><td style='color:black;background-color:#abd264;text-align:right;'>0.6521</td><td style='color:black;background-color:#d2ab64;text-align:right;'>0.3479</td></tr>\n",
       "</table>"
      ],
      "text/plain": [
       "(gum::Potential<double>@0x1e73f70) <fraud:0> :: 0.652106 /<fraud:1> :: 0.347894"
      ]
     },
     "execution_count": 23,
     "metadata": {},
     "output_type": "execute_result"
    }
   ],
   "source": [
    "ie.setEvidence({'gas':0, 'jewelry': 1}) # hard evidence\n",
    "ie.makeInference()\n",
    "ie.posterior('fraud')"
   ]
  },
  {
   "cell_type": "markdown",
   "metadata": {},
   "source": [
    "P(Fraud|-gas,-jewelry)"
   ]
  },
  {
   "cell_type": "code",
   "execution_count": 24,
   "metadata": {},
   "outputs": [
    {
     "data": {
      "text/html": [
       "<table style=\"border:1px solid black;\">\n",
       "<tr style='border:1px solid black;color:black;background-color:#808080'><th colspan='2'><center>fraud</center></th></tr>\n",
       "<tr><th style='border:1px solid black;border-bottom-style: double;color:black;background-color:#BBBBBB'><center>0</center></th><th style='border:1px solid black;border-bottom-style: double;color:black;background-color:#BBBBBB'><center>1</center></th></tr>\n",
       "<tr><td style='color:black;background-color:#93ea64;text-align:right;'>0.8389</td><td style='color:black;background-color:#ea9364;text-align:right;'>0.1611</td></tr>\n",
       "</table>"
      ],
      "text/plain": [
       "(gum::Potential<double>@0x18db350) <fraud:0> :: 0.83888 /<fraud:1> :: 0.16112"
      ]
     },
     "execution_count": 24,
     "metadata": {},
     "output_type": "execute_result"
    }
   ],
   "source": [
    "ie.setEvidence({'gas':1, 'jewelry': 0}) # hard evidence\n",
    "ie.makeInference()\n",
    "ie.posterior('fraud')"
   ]
  }
 ],
 "metadata": {
  "kernelspec": {
   "display_name": "Python 3",
   "language": "python",
   "name": "python3"
  },
  "language_info": {
   "codemirror_mode": {
    "name": "ipython",
    "version": 3
   },
   "file_extension": ".py",
   "mimetype": "text/x-python",
   "name": "python",
   "nbconvert_exporter": "python",
   "pygments_lexer": "ipython3",
   "version": "3.8.3"
  }
 },
 "nbformat": 4,
 "nbformat_minor": 4
}
