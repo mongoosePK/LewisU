{
 "cells": [
  {
   "cell_type": "code",
   "execution_count": 15,
   "metadata": {},
   "outputs": [],
   "source": [
    "from itertools import combinations\n",
    "from operator import itemgetter\n",
    "import pandas as pd\n",
    "from time import time\n",
    "\n",
    "support_count=3"
   ]
  },
  {
   "cell_type": "code",
   "execution_count": 16,
   "metadata": {},
   "outputs": [
    {
     "data": {
      "text/html": [
       "<div>\n",
       "<style scoped>\n",
       "    .dataframe tbody tr th:only-of-type {\n",
       "        vertical-align: middle;\n",
       "    }\n",
       "\n",
       "    .dataframe tbody tr th {\n",
       "        vertical-align: top;\n",
       "    }\n",
       "\n",
       "    .dataframe thead th {\n",
       "        text-align: right;\n",
       "    }\n",
       "</style>\n",
       "<table border=\"1\" class=\"dataframe\">\n",
       "  <thead>\n",
       "    <tr style=\"text-align: right;\">\n",
       "      <th></th>\n",
       "      <th></th>\n",
       "      <th></th>\n",
       "      <th></th>\n",
       "      <th></th>\n",
       "      <th></th>\n",
       "      <th></th>\n",
       "      <th></th>\n",
       "      <th></th>\n",
       "      <th></th>\n",
       "    </tr>\n",
       "  </thead>\n",
       "  <tbody>\n",
       "    <tr>\n",
       "      <th>2</th>\n",
       "      <th>17</th>\n",
       "      <th>16</th>\n",
       "      <th>13</th>\n",
       "      <th>6</th>\n",
       "      <th>9</th>\n",
       "      <th>5</th>\n",
       "      <th>11</th>\n",
       "      <th>3</th>\n",
       "      <th>7</th>\n",
       "    </tr>\n",
       "    <tr>\n",
       "      <th>16</th>\n",
       "      <th>12</th>\n",
       "      <th>1</th>\n",
       "      <th>6</th>\n",
       "      <th>0</th>\n",
       "      <th>8</th>\n",
       "      <th>17</th>\n",
       "      <th>2</th>\n",
       "      <th>15</th>\n",
       "      <th>3</th>\n",
       "    </tr>\n",
       "    <tr>\n",
       "      <th>5</th>\n",
       "      <th>12</th>\n",
       "      <th>2</th>\n",
       "      <th>16</th>\n",
       "      <th>13</th>\n",
       "      <th>6</th>\n",
       "      <th>10</th>\n",
       "      <th>3</th>\n",
       "      <th>4</th>\n",
       "      <th>0</th>\n",
       "    </tr>\n",
       "    <tr>\n",
       "      <th>17</th>\n",
       "      <th>11</th>\n",
       "      <th>15</th>\n",
       "      <th>12</th>\n",
       "      <th>0</th>\n",
       "      <th>7</th>\n",
       "      <th>4</th>\n",
       "      <th>18</th>\n",
       "      <th>14</th>\n",
       "      <th>5</th>\n",
       "    </tr>\n",
       "    <tr>\n",
       "      <th>3</th>\n",
       "      <th>9</th>\n",
       "      <th>19</th>\n",
       "      <th>12</th>\n",
       "      <th>18</th>\n",
       "      <th>5</th>\n",
       "      <th>4</th>\n",
       "      <th>13</th>\n",
       "      <th>2</th>\n",
       "      <th>15</th>\n",
       "    </tr>\n",
       "  </tbody>\n",
       "</table>\n",
       "</div>"
      ],
      "text/plain": [
       "Empty DataFrame\n",
       "Columns: []\n",
       "Index: [(2, 17, 16, 13, 6, 9, 5, 11, 3, 7), (16, 12, 1, 6, 0, 8, 17, 2, 15, 3), (5, 12, 2, 16, 13, 6, 10, 3, 4, 0), (17, 11, 15, 12, 0, 7, 4, 18, 14, 5), (3, 9, 19, 12, 18, 5, 4, 13, 2, 15)]"
      ]
     },
     "execution_count": 16,
     "metadata": {},
     "output_type": "execute_result"
    }
   ],
   "source": [
    "data = pd.read_csv('data/transactionList.csv')\n",
    "data = data.dropna(axis='columns')\n",
    "data.head()"
   ]
  },
  {
   "cell_type": "code",
   "execution_count": 29,
   "metadata": {},
   "outputs": [
    {
     "ename": "SyntaxError",
     "evalue": "invalid syntax (<ipython-input-29-bff7cc3b89ca>, line 1)",
     "output_type": "error",
     "traceback": [
      "\u001b[0;36m  File \u001b[0;32m\"<ipython-input-29-bff7cc3b89ca>\"\u001b[0;36m, line \u001b[0;32m1\u001b[0m\n\u001b[0;31m    single_items = data[axis='columns'].apply(pd.value_counts).sum(axis=1).where(lambda value: value > support_count)\u001b[0m\n\u001b[0m                            ^\u001b[0m\n\u001b[0;31mSyntaxError\u001b[0m\u001b[0;31m:\u001b[0m invalid syntax\n"
     ]
    }
   ],
   "source": [
    "\n",
    "single_items = data[axis='columns'].apply(pd.value_counts).sum(axis=1).where(lambda value: value > support_count)\n",
    "single_items.shape"
   ]
  },
  {
   "cell_type": "code",
   "execution_count": null,
   "metadata": {},
   "outputs": [],
   "source": []
  }
 ],
 "metadata": {
  "kernelspec": {
   "display_name": "Python 3.6.9 64-bit",
   "language": "python",
   "name": "python36964bitd2ef80457f9545ce9f0130e836cee88f"
  },
  "language_info": {
   "codemirror_mode": {
    "name": "ipython",
    "version": 3
   },
   "file_extension": ".py",
   "mimetype": "text/x-python",
   "name": "python",
   "nbconvert_exporter": "python",
   "pygments_lexer": "ipython3",
   "version": "3.6.9"
  }
 },
 "nbformat": 4,
 "nbformat_minor": 4
}
