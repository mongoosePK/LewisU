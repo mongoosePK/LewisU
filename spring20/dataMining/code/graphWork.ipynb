{
 "cells": [
  {
   "cell_type": "code",
   "execution_count": 9,
   "metadata": {},
   "outputs": [
    {
     "data": {
      "text/html": [
       "<div>\n",
       "<style scoped>\n",
       "    .dataframe tbody tr th:only-of-type {\n",
       "        vertical-align: middle;\n",
       "    }\n",
       "\n",
       "    .dataframe tbody tr th {\n",
       "        vertical-align: top;\n",
       "    }\n",
       "\n",
       "    .dataframe thead th {\n",
       "        text-align: right;\n",
       "    }\n",
       "</style>\n",
       "<table border=\"1\" class=\"dataframe\">\n",
       "  <thead>\n",
       "    <tr style=\"text-align: right;\">\n",
       "      <th></th>\n",
       "      <th>fromNodeId</th>\n",
       "      <th>toNodeId</th>\n",
       "      <th>weight</th>\n",
       "    </tr>\n",
       "  </thead>\n",
       "  <tbody>\n",
       "    <tr>\n",
       "      <th>0</th>\n",
       "      <td>0</td>\n",
       "      <td>1</td>\n",
       "      <td>4</td>\n",
       "    </tr>\n",
       "    <tr>\n",
       "      <th>1</th>\n",
       "      <td>0</td>\n",
       "      <td>6309</td>\n",
       "      <td>9</td>\n",
       "    </tr>\n",
       "    <tr>\n",
       "      <th>2</th>\n",
       "      <td>0</td>\n",
       "      <td>6353</td>\n",
       "      <td>40</td>\n",
       "    </tr>\n",
       "    <tr>\n",
       "      <th>3</th>\n",
       "      <td>6353</td>\n",
       "      <td>6354</td>\n",
       "      <td>23</td>\n",
       "    </tr>\n",
       "    <tr>\n",
       "      <th>4</th>\n",
       "      <td>6353</td>\n",
       "      <td>6364</td>\n",
       "      <td>15</td>\n",
       "    </tr>\n",
       "  </tbody>\n",
       "</table>\n",
       "</div>"
      ],
      "text/plain": [
       "   fromNodeId  toNodeId  weight\n",
       "0           0         1       4\n",
       "1           0      6309       9\n",
       "2           0      6353      40\n",
       "3        6353      6354      23\n",
       "4        6353      6364      15"
      ]
     },
     "execution_count": 9,
     "metadata": {},
     "output_type": "execute_result"
    }
   ],
   "source": [
    "import pandas as pd\n",
    "import csv\n",
    "import numpy as np\n",
    "import networkx as nx\n",
    "import matplotlib.pyplot as plt\n",
    "from scipy.sparse import coo_matrix\n",
    "%matplotlib inline\n",
    "df = pd.read_csv('data/moreWeightedRoad.csv', index_col=False)\n",
    "\n",
    "df.head()"
   ]
  },
  {
   "cell_type": "code",
   "execution_count": 10,
   "metadata": {},
   "outputs": [
    {
     "data": {
      "text/plain": [
       "(4039, 3)"
      ]
     },
     "execution_count": 10,
     "metadata": {},
     "output_type": "execute_result"
    }
   ],
   "source": [
    "df.shape"
   ]
  },
  {
   "cell_type": "code",
   "execution_count": 14,
   "metadata": {},
   "outputs": [],
   "source": [
    "graph = nx.Graph()\n",
    "for node in ['A', 'B', 'C', 'D', 'E', 'F', 'G', 'H']:\n",
    "    graph.add_node(node)"
   ]
  },
  {
   "cell_type": "code",
   "execution_count": 15,
   "metadata": {},
   "outputs": [],
   "source": [
    "graph.add_edge('A', 'B', weight=20)\n",
    "graph.add_edge('A', 'C', weight=30)\n",
    "graph.add_edge('B', 'D', weight=25)\n",
    "graph.add_edge('C', 'D', weight=40)\n",
    "graph.add_edge('B', 'E', weight=60)\n",
    "graph.add_edge('D', 'E', weight=40)\n",
    "graph.add_edge('E', 'F', weight=15)\n",
    "graph.add_edge('F', 'G', weight=12)\n",
    "graph.add_edge('F', 'H', weight=16)\n",
    "graph.add_edge('F', 'B', weight=25)\n"
   ]
  },
  {
   "cell_type": "code",
   "execution_count": 16,
   "metadata": {},
   "outputs": [
    {
     "data": {
      "text/plain": [
       "{'A': Text(-0.2792091259397643, 0.6892203515349979, 'A'),\n",
       " 'B': Text(-0.14862763328301923, 0.14366032430611766, 'B'),\n",
       " 'C': Text(0.05311529613531535, 0.811808031769408, 'C'),\n",
       " 'D': Text(0.09438529534747937, 0.4366534834591125, 'D'),\n",
       " 'E': Text(0.0759929795027602, 0.08021419556695729, 'E'),\n",
       " 'F': Text(0.0014697630015602155, -0.4025442314755658, 'F'),\n",
       " 'G': Text(-0.23645990274312417, -1.0, 'G'),\n",
       " 'H': Text(0.43933332797879365, -0.7590121551610279, 'H')}"
      ]
     },
     "execution_count": 16,
     "metadata": {},
     "output_type": "execute_result"
    },
    {
     "data": {
      "image/png": "[encoded data removed]",
      "text/plain": [
       "<Figure size 432x288 with 1 Axes>"
      ]
     },
     "metadata": {},
     "output_type": "display_data"
    }
   ],
   "source": [
    "pos = nx.spring_layout(graph)\n",
    "#pos = nx.get_node_attributes(graph,'pos')\n",
    "nx.draw(graph,pos)\n",
    "labels = nx.get_edge_attributes(graph,'weight')\n",
    "nx.draw_networkx_edge_labels(graph,pos,edge_labels=labels)\n",
    "nx.draw_networkx_labels(graph, pos, font_size=16, font_family='sans-serif')"
   ]
  },
  {
   "cell_type": "code",
   "execution_count": null,
   "metadata": {},
   "outputs": [],
   "source": []
  }
 ],
 "metadata": {
  "kernelspec": {
   "display_name": "Python 3",
   "language": "python",
   "name": "python3"
  },
  "language_info": {
   "codemirror_mode": {
    "name": "ipython",
    "version": 3
   },
   "file_extension": ".py",
   "mimetype": "text/x-python",
   "name": "python",
   "nbconvert_exporter": "python",
   "pygments_lexer": "ipython3",
   "version": "3.6.9"
  }
 },
 "nbformat": 4,
 "nbformat_minor": 4
}
