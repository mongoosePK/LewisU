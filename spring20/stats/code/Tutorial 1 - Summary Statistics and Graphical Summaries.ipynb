{
 "cells": [
  {
   "cell_type": "markdown",
   "metadata": {},
   "source": [
    "# Tutorial 1 - Summary Statistics and Graphical Summaries"
   ]
  },
  {
   "cell_type": "markdown",
   "metadata": {},
   "source": [
    "## Getting Started - Importing Libraries"
   ]
  },
  {
   "cell_type": "markdown",
   "metadata": {},
   "source": [
    "In order to use Python in order to work with data, we need to first tell Python that we wish to make certain tools available to us. In order to do that, we need to import some libraries. "
   ]
  },
  {
   "cell_type": "code",
   "execution_count": 1,
   "metadata": {},
   "outputs": [],
   "source": [
    "# Allows us to create Data Frames.\n",
    "import pandas as pd\n",
    "\n",
    "# Stops matplotlib from opening a new window for our plots. \n",
    "%matplotlib inline\n",
    "\n",
    "# Imports plotting functionality.\n",
    "import matplotlib.pyplot as plt\n",
    "\n",
    "# Imports the ability to calculate statistics.\n",
    "import numpy as np"
   ]
  },
  {
   "cell_type": "markdown",
   "metadata": {},
   "source": [
    "## Summary Statistics"
   ]
  },
  {
   "cell_type": "markdown",
   "metadata": {},
   "source": [
    "Before we start importing data, we are going to play around with the basic functionality of our statistics using a list. "
   ]
  },
  {
   "cell_type": "code",
   "execution_count": 2,
   "metadata": {},
   "outputs": [],
   "source": [
    "# This is a list of commute times collected from various students. \n",
    "commute = [15, 17, 17, 18, 19, 19, 20, 20, 21, 21, 21, 22, 23, 24, 26, 26, 31, 36, 38]"
   ]
  },
  {
   "cell_type": "markdown",
   "metadata": {},
   "source": [
    "At this point, we can calculate things like mean, standard deviation, and variance."
   ]
  },
  {
   "cell_type": "code",
   "execution_count": 3,
   "metadata": {},
   "outputs": [
    {
     "data": {
      "text/plain": [
       "22.842105263157894"
      ]
     },
     "execution_count": 3,
     "metadata": {},
     "output_type": "execute_result"
    }
   ],
   "source": [
    "# This is the mean of our list. \n",
    "np.mean(commute)"
   ]
  },
  {
   "cell_type": "code",
   "execution_count": 4,
   "metadata": {},
   "outputs": [
    {
     "data": {
      "text/plain": [
       "6.072051226248246"
      ]
     },
     "execution_count": 4,
     "metadata": {},
     "output_type": "execute_result"
    }
   ],
   "source": [
    "# This is the POPULATION standard deviation.\n",
    "np.std(commute) "
   ]
  },
  {
   "cell_type": "code",
   "execution_count": 5,
   "metadata": {},
   "outputs": [
    {
     "data": {
      "text/plain": [
       "6.238439600971605"
      ]
     },
     "execution_count": 5,
     "metadata": {},
     "output_type": "execute_result"
    }
   ],
   "source": [
    "# This is the SAMPLE standard deviation. \n",
    "# np.std() defaults to population standard deviation. For sample SD, set ddof = 1.\n",
    "np.std(commute, ddof = 1) "
   ]
  },
  {
   "cell_type": "code",
   "execution_count": 6,
   "metadata": {},
   "outputs": [
    {
     "data": {
      "text/plain": [
       "36.86980609418283"
      ]
     },
     "execution_count": 6,
     "metadata": {},
     "output_type": "execute_result"
    }
   ],
   "source": [
    "# This is the POPULATION variance. \n",
    "np.var(commute)"
   ]
  },
  {
   "cell_type": "code",
   "execution_count": 7,
   "metadata": {},
   "outputs": [
    {
     "data": {
      "text/plain": [
       "38.918128654970765"
      ]
     },
     "execution_count": 7,
     "metadata": {},
     "output_type": "execute_result"
    }
   ],
   "source": [
    "# This is the SAMPLE variance. \n",
    "# np.var() defaults to population variance. For sample variance, set ddof = 1.\n",
    "np.var(commute, ddof = 1)"
   ]
  },
  {
   "cell_type": "markdown",
   "metadata": {},
   "source": [
    "We can also determine the length of our list, as well as our five-number summary."
   ]
  },
  {
   "cell_type": "code",
   "execution_count": 8,
   "metadata": {},
   "outputs": [
    {
     "data": {
      "text/plain": [
       "19"
      ]
     },
     "execution_count": 8,
     "metadata": {},
     "output_type": "execute_result"
    }
   ],
   "source": [
    "# Calculates the sample size.\n",
    "len(commute)"
   ]
  },
  {
   "cell_type": "code",
   "execution_count": 9,
   "metadata": {},
   "outputs": [
    {
     "data": {
      "text/plain": [
       "21.0"
      ]
     },
     "execution_count": 9,
     "metadata": {},
     "output_type": "execute_result"
    }
   ],
   "source": [
    "# This computes the median.\n",
    "np.median(commute)"
   ]
  },
  {
   "cell_type": "code",
   "execution_count": 10,
   "metadata": {},
   "outputs": [
    {
     "name": "stdout",
     "output_type": "stream",
     "text": [
      "Min:  15\n",
      "Q1:  19.0\n",
      "Q2:  21.0\n",
      "Q3:  25.0\n",
      "Max:  38\n"
     ]
    }
   ],
   "source": [
    "# This computes the quartiles, minimum, and maximum for our list.\n",
    "quartiles = np.percentile(commute, [25, 50, 75])\n",
    "commute_min, commute_max = np.min(commute), np.max(commute)\n",
    "print('Min: ', commute_min)\n",
    "print('Q1: ', quartiles[0])\n",
    "print('Q2: ', quartiles[1])\n",
    "print('Q3: ', quartiles[2])\n",
    "print('Max: ', commute_max)"
   ]
  },
  {
   "cell_type": "markdown",
   "metadata": {},
   "source": [
    "## Importing Data"
   ]
  },
  {
   "cell_type": "markdown",
   "metadata": {},
   "source": [
    "Without knowing how to import data, knowing how to calculate the statistics will only get us so far. In order for us to import data, we must know how to direct our program to the file we wish to import. Ask Mr. Smith if you are unsure how to do this when reviewing later."
   ]
  },
  {
   "cell_type": "code",
   "execution_count": 11,
   "metadata": {},
   "outputs": [],
   "source": [
    "# Imports our data from \"The National Longitudinal Study \n",
    "# of Adolescent to Adult Health\". More information at https://www.cpc.unc.edu/projects/addhealth\n",
    "df = pd.read_csv('data/add_health_data.csv', index_col=None, encoding='utf-8')"
   ]
  },
  {
   "cell_type": "code",
   "execution_count": 12,
   "metadata": {},
   "outputs": [
    {
     "data": {
      "text/html": [
       "<div>\n",
       "<style scoped>\n",
       "    .dataframe tbody tr th:only-of-type {\n",
       "        vertical-align: middle;\n",
       "    }\n",
       "\n",
       "    .dataframe tbody tr th {\n",
       "        vertical-align: top;\n",
       "    }\n",
       "\n",
       "    .dataframe thead th {\n",
       "        text-align: right;\n",
       "    }\n",
       "</style>\n",
       "<table border=\"1\" class=\"dataframe\">\n",
       "  <thead>\n",
       "    <tr style=\"text-align: right;\">\n",
       "      <th></th>\n",
       "      <th>AID</th>\n",
       "      <th>BIO_SEX</th>\n",
       "      <th>agew1</th>\n",
       "      <th>IMONTH4</th>\n",
       "      <th>IDAY4</th>\n",
       "      <th>IYEAR4</th>\n",
       "      <th>MACNO4</th>\n",
       "      <th>INTID4</th>\n",
       "      <th>BIO_SEX4</th>\n",
       "      <th>VERSION4</th>\n",
       "      <th>...</th>\n",
       "      <th>H4EO5C</th>\n",
       "      <th>H4EO5D</th>\n",
       "      <th>H4EO5E</th>\n",
       "      <th>H4EO5F</th>\n",
       "      <th>H4EO5G</th>\n",
       "      <th>H4EO5H</th>\n",
       "      <th>H4EO5I</th>\n",
       "      <th>H4EO5J</th>\n",
       "      <th>H4EO6</th>\n",
       "      <th>H4EO7</th>\n",
       "    </tr>\n",
       "  </thead>\n",
       "  <tbody>\n",
       "    <tr>\n",
       "      <th>0</th>\n",
       "      <td>5710027</td>\n",
       "      <td>2</td>\n",
       "      <td></td>\n",
       "      <td></td>\n",
       "      <td></td>\n",
       "      <td></td>\n",
       "      <td></td>\n",
       "      <td></td>\n",
       "      <td></td>\n",
       "      <td></td>\n",
       "      <td>...</td>\n",
       "      <td></td>\n",
       "      <td></td>\n",
       "      <td></td>\n",
       "      <td></td>\n",
       "      <td></td>\n",
       "      <td></td>\n",
       "      <td></td>\n",
       "      <td></td>\n",
       "      <td></td>\n",
       "      <td></td>\n",
       "    </tr>\n",
       "    <tr>\n",
       "      <th>1</th>\n",
       "      <td>5710131</td>\n",
       "      <td>2</td>\n",
       "      <td>19.42739726</td>\n",
       "      <td>5</td>\n",
       "      <td>6</td>\n",
       "      <td>2008</td>\n",
       "      <td>2288160</td>\n",
       "      <td>160</td>\n",
       "      <td>2</td>\n",
       "      <td>V5.4</td>\n",
       "      <td>...</td>\n",
       "      <td>0</td>\n",
       "      <td>0</td>\n",
       "      <td>0</td>\n",
       "      <td>0</td>\n",
       "      <td>0</td>\n",
       "      <td>0</td>\n",
       "      <td>0</td>\n",
       "      <td>0</td>\n",
       "      <td>2</td>\n",
       "      <td>1</td>\n",
       "    </tr>\n",
       "    <tr>\n",
       "      <th>2</th>\n",
       "      <td>5710317</td>\n",
       "      <td>1</td>\n",
       "      <td></td>\n",
       "      <td></td>\n",
       "      <td></td>\n",
       "      <td></td>\n",
       "      <td></td>\n",
       "      <td></td>\n",
       "      <td></td>\n",
       "      <td></td>\n",
       "      <td>...</td>\n",
       "      <td></td>\n",
       "      <td></td>\n",
       "      <td></td>\n",
       "      <td></td>\n",
       "      <td></td>\n",
       "      <td></td>\n",
       "      <td></td>\n",
       "      <td></td>\n",
       "      <td></td>\n",
       "      <td></td>\n",
       "    </tr>\n",
       "    <tr>\n",
       "      <th>3</th>\n",
       "      <td>5710386</td>\n",
       "      <td>1</td>\n",
       "      <td>20.43013699</td>\n",
       "      <td>5</td>\n",
       "      <td>22</td>\n",
       "      <td>2008</td>\n",
       "      <td>2288238</td>\n",
       "      <td>238</td>\n",
       "      <td>1</td>\n",
       "      <td>V5.4</td>\n",
       "      <td>...</td>\n",
       "      <td>0</td>\n",
       "      <td>0</td>\n",
       "      <td>0</td>\n",
       "      <td>0</td>\n",
       "      <td>0</td>\n",
       "      <td>0</td>\n",
       "      <td>0</td>\n",
       "      <td>0</td>\n",
       "      <td>4</td>\n",
       "      <td>1</td>\n",
       "    </tr>\n",
       "    <tr>\n",
       "      <th>4</th>\n",
       "      <td>5710455</td>\n",
       "      <td>2</td>\n",
       "      <td></td>\n",
       "      <td></td>\n",
       "      <td></td>\n",
       "      <td></td>\n",
       "      <td></td>\n",
       "      <td></td>\n",
       "      <td></td>\n",
       "      <td></td>\n",
       "      <td>...</td>\n",
       "      <td></td>\n",
       "      <td></td>\n",
       "      <td></td>\n",
       "      <td></td>\n",
       "      <td></td>\n",
       "      <td></td>\n",
       "      <td></td>\n",
       "      <td></td>\n",
       "      <td></td>\n",
       "      <td></td>\n",
       "    </tr>\n",
       "    <tr>\n",
       "      <th>5</th>\n",
       "      <td>5710464</td>\n",
       "      <td>1</td>\n",
       "      <td>14.50958904</td>\n",
       "      <td></td>\n",
       "      <td></td>\n",
       "      <td></td>\n",
       "      <td></td>\n",
       "      <td></td>\n",
       "      <td></td>\n",
       "      <td></td>\n",
       "      <td>...</td>\n",
       "      <td></td>\n",
       "      <td></td>\n",
       "      <td></td>\n",
       "      <td></td>\n",
       "      <td></td>\n",
       "      <td></td>\n",
       "      <td></td>\n",
       "      <td></td>\n",
       "      <td></td>\n",
       "      <td></td>\n",
       "    </tr>\n",
       "    <tr>\n",
       "      <th>6</th>\n",
       "      <td>5710467</td>\n",
       "      <td>1</td>\n",
       "      <td>13.67671233</td>\n",
       "      <td></td>\n",
       "      <td></td>\n",
       "      <td></td>\n",
       "      <td></td>\n",
       "      <td></td>\n",
       "      <td></td>\n",
       "      <td></td>\n",
       "      <td>...</td>\n",
       "      <td></td>\n",
       "      <td></td>\n",
       "      <td></td>\n",
       "      <td></td>\n",
       "      <td></td>\n",
       "      <td></td>\n",
       "      <td></td>\n",
       "      <td></td>\n",
       "      <td></td>\n",
       "      <td></td>\n",
       "    </tr>\n",
       "    <tr>\n",
       "      <th>7</th>\n",
       "      <td>5710962</td>\n",
       "      <td>1</td>\n",
       "      <td>15.17808219</td>\n",
       "      <td>11</td>\n",
       "      <td>2</td>\n",
       "      <td>2008</td>\n",
       "      <td>2288258</td>\n",
       "      <td>258</td>\n",
       "      <td>1</td>\n",
       "      <td>V5.5</td>\n",
       "      <td>...</td>\n",
       "      <td></td>\n",
       "      <td></td>\n",
       "      <td></td>\n",
       "      <td></td>\n",
       "      <td></td>\n",
       "      <td></td>\n",
       "      <td></td>\n",
       "      <td></td>\n",
       "      <td></td>\n",
       "      <td></td>\n",
       "    </tr>\n",
       "    <tr>\n",
       "      <th>8</th>\n",
       "      <td>5711089</td>\n",
       "      <td>1</td>\n",
       "      <td>14.6739726</td>\n",
       "      <td></td>\n",
       "      <td></td>\n",
       "      <td></td>\n",
       "      <td></td>\n",
       "      <td></td>\n",
       "      <td></td>\n",
       "      <td></td>\n",
       "      <td>...</td>\n",
       "      <td></td>\n",
       "      <td></td>\n",
       "      <td></td>\n",
       "      <td></td>\n",
       "      <td></td>\n",
       "      <td></td>\n",
       "      <td></td>\n",
       "      <td></td>\n",
       "      <td></td>\n",
       "      <td></td>\n",
       "    </tr>\n",
       "    <tr>\n",
       "      <th>9</th>\n",
       "      <td>5711107</td>\n",
       "      <td>1</td>\n",
       "      <td>14.9260274</td>\n",
       "      <td>6</td>\n",
       "      <td>29</td>\n",
       "      <td>2008</td>\n",
       "      <td>2288260</td>\n",
       "      <td>260</td>\n",
       "      <td>1</td>\n",
       "      <td>V5.4</td>\n",
       "      <td>...</td>\n",
       "      <td>0</td>\n",
       "      <td>0</td>\n",
       "      <td>0</td>\n",
       "      <td>0</td>\n",
       "      <td>0</td>\n",
       "      <td>0</td>\n",
       "      <td>0</td>\n",
       "      <td>0</td>\n",
       "      <td>1</td>\n",
       "      <td>2</td>\n",
       "    </tr>\n",
       "  </tbody>\n",
       "</table>\n",
       "<p>10 rows × 976 columns</p>\n",
       "</div>"
      ],
      "text/plain": [
       "       AID  BIO_SEX        agew1 IMONTH4 IDAY4 IYEAR4   MACNO4 INTID4  \\\n",
       "0  5710027        2                                                     \n",
       "1  5710131        2  19.42739726       5     6   2008  2288160    160   \n",
       "2  5710317        1                                                     \n",
       "3  5710386        1  20.43013699       5    22   2008  2288238    238   \n",
       "4  5710455        2                                                     \n",
       "5  5710464        1  14.50958904                                        \n",
       "6  5710467        1  13.67671233                                        \n",
       "7  5710962        1  15.17808219      11     2   2008  2288258    258   \n",
       "8  5711089        1   14.6739726                                        \n",
       "9  5711107        1   14.9260274       6    29   2008  2288260    260   \n",
       "\n",
       "  BIO_SEX4 VERSION4  ... H4EO5C H4EO5D H4EO5E H4EO5F H4EO5G H4EO5H H4EO5I  \\\n",
       "0                    ...                                                    \n",
       "1        2     V5.4  ...      0      0      0      0      0      0      0   \n",
       "2                    ...                                                    \n",
       "3        1     V5.4  ...      0      0      0      0      0      0      0   \n",
       "4                    ...                                                    \n",
       "5                    ...                                                    \n",
       "6                    ...                                                    \n",
       "7        1     V5.5  ...                                                    \n",
       "8                    ...                                                    \n",
       "9        1     V5.4  ...      0      0      0      0      0      0      0   \n",
       "\n",
       "  H4EO5J H4EO6 H4EO7  \n",
       "0                     \n",
       "1      0     2     1  \n",
       "2                     \n",
       "3      0     4     1  \n",
       "4                     \n",
       "5                     \n",
       "6                     \n",
       "7                     \n",
       "8                     \n",
       "9      0     1     2  \n",
       "\n",
       "[10 rows x 976 columns]"
      ]
     },
     "execution_count": 12,
     "metadata": {},
     "output_type": "execute_result"
    }
   ],
   "source": [
    "# Shows the first ten entries of the data frame. This is useful to gain a sense of what your data looks like. \n",
    "df.head(10)"
   ]
  },
  {
   "cell_type": "markdown",
   "metadata": {},
   "source": [
    "Having a data frame provides us with some extra perks in Python, allowing us to quickly determine frequencies and find the mean, standard deviation, and the five-number summary."
   ]
  },
  {
   "cell_type": "code",
   "execution_count": 13,
   "metadata": {},
   "outputs": [
    {
     "data": {
      "text/plain": [
       "array([2, 1, 6], dtype=int64)"
      ]
     },
     "execution_count": 13,
     "metadata": {},
     "output_type": "execute_result"
    }
   ],
   "source": [
    "# This tells you all unique entries in the BIO_SEX column.\n",
    "df.BIO_SEX.unique()"
   ]
  },
  {
   "cell_type": "code",
   "execution_count": 14,
   "metadata": {},
   "outputs": [
    {
     "data": {
      "text/plain": [
       "2    3356\n",
       "1    3147\n",
       "6       1\n",
       "Name: BIO_SEX, dtype: int64"
      ]
     },
     "execution_count": 14,
     "metadata": {},
     "output_type": "execute_result"
    }
   ],
   "source": [
    "# This determines the frequency for each category.  \n",
    "df.BIO_SEX.value_counts()"
   ]
  },
  {
   "cell_type": "code",
   "execution_count": 15,
   "metadata": {},
   "outputs": [
    {
     "data": {
      "text/plain": [
       "count    6504.000000\n",
       "mean        1.516759\n",
       "std         0.502825\n",
       "min         1.000000\n",
       "25%         1.000000\n",
       "50%         2.000000\n",
       "75%         2.000000\n",
       "max         6.000000\n",
       "Name: BIO_SEX, dtype: float64"
      ]
     },
     "execution_count": 15,
     "metadata": {},
     "output_type": "execute_result"
    }
   ],
   "source": [
    "# For data frames, df.COLUMN_NAME.describe() will tell you the count, mean, standard deviation, and \n",
    "# five-number summary for COLUMN_NAME. \n",
    "df['BIO_SEX'].describe()\n",
    "# It is worth noting that since we understand these numbers represent categorical data, it does not \n",
    "# make much sense to compute these things. However, this is a demonstration that we could if necessary."
   ]
  },
  {
   "cell_type": "code",
   "execution_count": 16,
   "metadata": {},
   "outputs": [
    {
     "data": {
      "text/plain": [
       "count     6504\n",
       "unique     194\n",
       "top           \n",
       "freq      1667\n",
       "Name: agew1, dtype: object"
      ]
     },
     "execution_count": 16,
     "metadata": {},
     "output_type": "execute_result"
    }
   ],
   "source": [
    "# .describe() also works for non-numeric data, although it will only give us relevant information.\n",
    "df.agew1.describe()"
   ]
  },
  {
   "cell_type": "code",
   "execution_count": 17,
   "metadata": {},
   "outputs": [],
   "source": [
    "# Since 'agew1' is a column that should give us the age of the individuals, it should be numeric. \n",
    "# However, it seems to have been imported as a non-numeric type of data (see above). \n",
    "# This code will turn our column into numeric information. \n",
    "columns_to_change = {'agew1'}\n",
    "for col in columns_to_change:\n",
    "    df[col] = pd.to_numeric(df[col], errors='coerce')"
   ]
  },
  {
   "cell_type": "code",
   "execution_count": 18,
   "metadata": {},
   "outputs": [
    {
     "data": {
      "text/plain": [
       "count    4837.000000\n",
       "mean       16.541548\n",
       "std         1.581993\n",
       "min        12.676712\n",
       "25%        15.257534\n",
       "50%        16.512329\n",
       "75%        17.761644\n",
       "max        21.934247\n",
       "Name: agew1, dtype: float64"
      ]
     },
     "execution_count": 18,
     "metadata": {},
     "output_type": "execute_result"
    }
   ],
   "source": [
    "# Now when we run the .describe() command on 'agew1', we obtain the mean, standard deviation, and \n",
    "# five-number summary that we should expect.\n",
    "df.agew1.describe()"
   ]
  },
  {
   "cell_type": "markdown",
   "metadata": {},
   "source": [
    "## Graphical Summaries"
   ]
  },
  {
   "cell_type": "markdown",
   "metadata": {},
   "source": [
    "### Bar Plots"
   ]
  },
  {
   "cell_type": "code",
   "execution_count": 19,
   "metadata": {},
   "outputs": [
    {
     "data": {
      "image/png": "[encoded data removed]",
      "text/plain": [
       "<Figure size 432x288 with 1 Axes>"
      ]
     },
     "metadata": {
      "needs_background": "light"
     },
     "output_type": "display_data"
    }
   ],
   "source": [
    "categories = df.BIO_SEX.unique()\n",
    "amounts = df.BIO_SEX.value_counts()\n",
    "axis_space = np.arange(len(categories))\n",
    "\n",
    "plt.bar(axis_space, amounts, align = 'center', alpha = 0.5)\n",
    "plt.xticks(axis_space, categories)\n",
    "plt.ylabel('Total Respondents')\n",
    "plt.title('Biological Sex Amounts')\n",
    "plt.show()"
   ]
  },
  {
   "cell_type": "code",
   "execution_count": 20,
   "metadata": {
    "scrolled": true
   },
   "outputs": [
    {
     "data": {
      "image/png": "[encoded data removed]",
      "text/plain": [
       "<Figure size 432x288 with 1 Axes>"
      ]
     },
     "metadata": {
      "needs_background": "light"
     },
     "output_type": "display_data"
    }
   ],
   "source": [
    "categories = df.BIO_SEX.unique()\n",
    "amounts = df.BIO_SEX.value_counts()\n",
    "axis_space = np.arange(len(categories))\n",
    "\n",
    "plt.barh(axis_space, amounts, align = 'center', alpha = 0.5)\n",
    "plt.yticks(axis_space, categories)\n",
    "plt.xlabel('Total Respondents')\n",
    "plt.title('Biological Sex Amounts')\n",
    "plt.show()"
   ]
  },
  {
   "cell_type": "markdown",
   "metadata": {},
   "source": [
    "### Pie Charts"
   ]
  },
  {
   "cell_type": "code",
   "execution_count": 21,
   "metadata": {},
   "outputs": [
    {
     "data": {
      "image/png": "[encoded data removed]",
      "text/plain": [
       "<Figure size 432x288 with 1 Axes>"
      ]
     },
     "metadata": {},
     "output_type": "display_data"
    }
   ],
   "source": [
    "labels = df.BIO_SEX.unique()\n",
    "sizes = df.BIO_SEX.value_counts()\n",
    "colors = ['gold', 'lightcoral', 'lightskyblue']\n",
    "\n",
    "# You can include this code instead of the following two lines containing 'patches' if you prefer to have your \n",
    "# labels on the wedges of the chart.\n",
    "#explode = (0.1, 0, 0)  # explode 1st slice\n",
    "#plt.pie(sizes, explode=explode, labels=labels, colors=colors,\n",
    "#autopct='%1.1f%%', shadow=True, startangle=140)\n",
    "\n",
    "patches, texts = plt.pie(sizes, colors=colors, shadow=True, startangle=90) # Remove if alternate code\n",
    "plt.legend(patches, labels, loc=\"best\") #Remove if alternate code\n",
    "\n",
    "plt.axis('equal')\n",
    "plt.show()"
   ]
  },
  {
   "cell_type": "markdown",
   "metadata": {},
   "source": [
    "### Box Plots"
   ]
  },
  {
   "cell_type": "code",
   "execution_count": 22,
   "metadata": {},
   "outputs": [
    {
     "data": {
      "image/png": "[encoded data removed]",
      "text/plain": [
       "<Figure size 432x288 with 1 Axes>"
      ]
     },
     "metadata": {
      "needs_background": "light"
     },
     "output_type": "display_data"
    }
   ],
   "source": [
    "plt.boxplot(commute);"
   ]
  },
  {
   "cell_type": "code",
   "execution_count": 23,
   "metadata": {},
   "outputs": [
    {
     "data": {
      "image/png": "[encoded data removed]",
      "text/plain": [
       "<Figure size 432x288 with 1 Axes>"
      ]
     },
     "metadata": {
      "needs_background": "light"
     },
     "output_type": "display_data"
    }
   ],
   "source": [
    "plt.boxplot(commute, vert=False);"
   ]
  },
  {
   "cell_type": "markdown",
   "metadata": {},
   "source": [
    "### Time-series Plot"
   ]
  },
  {
   "cell_type": "code",
   "execution_count": 24,
   "metadata": {},
   "outputs": [],
   "source": [
    "dji = pd.read_csv('data/DJI.csv')"
   ]
  },
  {
   "cell_type": "code",
   "execution_count": 25,
   "metadata": {},
   "outputs": [
    {
     "data": {
      "text/html": [
       "<div>\n",
       "<style scoped>\n",
       "    .dataframe tbody tr th:only-of-type {\n",
       "        vertical-align: middle;\n",
       "    }\n",
       "\n",
       "    .dataframe tbody tr th {\n",
       "        vertical-align: top;\n",
       "    }\n",
       "\n",
       "    .dataframe thead th {\n",
       "        text-align: right;\n",
       "    }\n",
       "</style>\n",
       "<table border=\"1\" class=\"dataframe\">\n",
       "  <thead>\n",
       "    <tr style=\"text-align: right;\">\n",
       "      <th></th>\n",
       "      <th>Date</th>\n",
       "      <th>Open</th>\n",
       "      <th>High</th>\n",
       "      <th>Low</th>\n",
       "      <th>Close</th>\n",
       "      <th>Adj Close</th>\n",
       "      <th>Volume</th>\n",
       "    </tr>\n",
       "  </thead>\n",
       "  <tbody>\n",
       "    <tr>\n",
       "      <th>0</th>\n",
       "      <td>10/1/2014</td>\n",
       "      <td>17040.46094</td>\n",
       "      <td>17395.53906</td>\n",
       "      <td>15855.12012</td>\n",
       "      <td>17390.51953</td>\n",
       "      <td>17390.51953</td>\n",
       "      <td>2903240000</td>\n",
       "    </tr>\n",
       "    <tr>\n",
       "      <th>1</th>\n",
       "      <td>11/1/2014</td>\n",
       "      <td>17390.90039</td>\n",
       "      <td>17894.83008</td>\n",
       "      <td>17278.35938</td>\n",
       "      <td>17828.24023</td>\n",
       "      <td>17828.24023</td>\n",
       "      <td>1516490000</td>\n",
       "    </tr>\n",
       "    <tr>\n",
       "      <th>2</th>\n",
       "      <td>12/1/2014</td>\n",
       "      <td>17827.26953</td>\n",
       "      <td>18103.44922</td>\n",
       "      <td>17067.58984</td>\n",
       "      <td>17823.07031</td>\n",
       "      <td>17823.07031</td>\n",
       "      <td>2216900000</td>\n",
       "    </tr>\n",
       "    <tr>\n",
       "      <th>3</th>\n",
       "      <td>1/1/2015</td>\n",
       "      <td>17823.07031</td>\n",
       "      <td>17951.77930</td>\n",
       "      <td>17136.30078</td>\n",
       "      <td>17164.94922</td>\n",
       "      <td>17164.94922</td>\n",
       "      <td>2173260000</td>\n",
       "    </tr>\n",
       "    <tr>\n",
       "      <th>4</th>\n",
       "      <td>2/1/2015</td>\n",
       "      <td>17169.99023</td>\n",
       "      <td>18244.38086</td>\n",
       "      <td>17037.75977</td>\n",
       "      <td>18132.69922</td>\n",
       "      <td>18132.69922</td>\n",
       "      <td>1751250000</td>\n",
       "    </tr>\n",
       "  </tbody>\n",
       "</table>\n",
       "</div>"
      ],
      "text/plain": [
       "        Date         Open         High          Low        Close    Adj Close  \\\n",
       "0  10/1/2014  17040.46094  17395.53906  15855.12012  17390.51953  17390.51953   \n",
       "1  11/1/2014  17390.90039  17894.83008  17278.35938  17828.24023  17828.24023   \n",
       "2  12/1/2014  17827.26953  18103.44922  17067.58984  17823.07031  17823.07031   \n",
       "3   1/1/2015  17823.07031  17951.77930  17136.30078  17164.94922  17164.94922   \n",
       "4   2/1/2015  17169.99023  18244.38086  17037.75977  18132.69922  18132.69922   \n",
       "\n",
       "       Volume  \n",
       "0  2903240000  \n",
       "1  1516490000  \n",
       "2  2216900000  \n",
       "3  2173260000  \n",
       "4  1751250000  "
      ]
     },
     "execution_count": 25,
     "metadata": {},
     "output_type": "execute_result"
    }
   ],
   "source": [
    "dji.head()"
   ]
  },
  {
   "cell_type": "code",
   "execution_count": 26,
   "metadata": {},
   "outputs": [
    {
     "data": {
      "image/png": "[encoded data removed]",
      "text/plain": [
       "<Figure size 432x288 with 1 Axes>"
      ]
     },
     "metadata": {
      "needs_background": "light"
     },
     "output_type": "display_data"
    }
   ],
   "source": [
    "import datetime\n",
    "\n",
    "x = dji.Date\n",
    "y = dji.Open\n",
    "\n",
    "plt.xlabel('Date')\n",
    "plt.ylabel('Opening Price')\n",
    "plt.title('DJI Opening Price from 10/1/2014 to 9/1/2019')\n",
    "plt.plot(x,y)\n",
    "# Here, the numbers indicate the position from left to right that each label should be at.\n",
    "# The words after indicate what to display at each label.\n",
    "# Since this is monthly data, we can count by 12s to place our labels once each year. \n",
    "plt.xticks([0, 12, 24, 36, 48, 59], ('Oct 2014', 'Oct 2015', 'Oct 2016', 'Oct 2017', 'Oct 2018', 'Sept 2019'))\n",
    "plt.show()"
   ]
  },
  {
   "cell_type": "code",
   "execution_count": null,
   "metadata": {},
   "outputs": [],
   "source": []
  }
 ],
 "metadata": {
  "kernelspec": {
   "display_name": "Python 3",
   "language": "python",
   "name": "python3"
  },
  "language_info": {
   "codemirror_mode": {
    "name": "ipython",
    "version": 3
   },
   "file_extension": ".py",
   "mimetype": "text/x-python",
   "name": "python",
   "nbconvert_exporter": "python",
   "pygments_lexer": "ipython3",
   "version": "3.6.9"
  }
 },
 "nbformat": 4,
 "nbformat_minor": 2
}
