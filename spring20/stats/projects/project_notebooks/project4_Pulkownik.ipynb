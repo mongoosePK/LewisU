{
 "cells": [
  {
   "cell_type": "markdown",
   "metadata": {},
   "source": [
    "# Project 4\n",
    "## William Pulkownik\n",
    "## Sp20-Stats-M.Smith"
   ]
  },
  {
   "cell_type": "code",
   "execution_count": 52,
   "metadata": {},
   "outputs": [],
   "source": [
    "#import the libraries!\n",
    "import numpy as np\n",
    "import matplotlib.pyplot as plt\n",
    "%matplotlib inline\n",
    "from scipy import integrate\n",
    "# fancy stats tools\n",
    "import scipy.stats as stats\n",
    "from scipy.stats import norm\n"
   ]
  },
  {
   "cell_type": "markdown",
   "metadata": {},
   "source": [
    "## 1)"
   ]
  },
  {
   "cell_type": "code",
   "execution_count": 53,
   "metadata": {},
   "outputs": [
    {
     "data": {
      "text/plain": [
       "(1.0000000000000075, 1.134656220602671e-08)"
      ]
     },
     "execution_count": 53,
     "metadata": {},
     "output_type": "execute_result"
    }
   ],
   "source": [
    "x = np.linspace(0,1,100)\n",
    "def a(x):\n",
    "    return np.exp(-10*x) * 10\n",
    "integrate.quad(a, 0, np.inf)"
   ]
  },
  {
   "cell_type": "markdown",
   "metadata": {},
   "source": [
    "The function is not a probabilty function for a continuous random variable, based on the output, but it is so close that I think it might be a computer thing"
   ]
  },
  {
   "cell_type": "code",
   "execution_count": 54,
   "metadata": {},
   "outputs": [
    {
     "data": {
      "text/plain": [
       "(100.0, 1.0187056346358016e-07)"
      ]
     },
     "execution_count": 54,
     "metadata": {},
     "output_type": "execute_result"
    }
   ],
   "source": [
    "def b(x):\n",
    "    return np.exp(-.1*x) * 10\n",
    "integrate.quad(b, 0, np.inf)"
   ]
  },
  {
   "cell_type": "markdown",
   "metadata": {},
   "source": [
    "The function is not a probabilty density function for a continuous random variable"
   ]
  },
  {
   "cell_type": "code",
   "execution_count": 55,
   "metadata": {},
   "outputs": [
    {
     "data": {
      "text/plain": [
       "(1.0, 6.511749488981415e-12)"
      ]
     },
     "execution_count": 55,
     "metadata": {},
     "output_type": "execute_result"
    }
   ],
   "source": [
    "def c(x):\n",
    "    return np.exp(-.3*x) * 0.3\n",
    "integrate.quad(c, 0, np.inf)"
   ]
  },
  {
   "cell_type": "markdown",
   "metadata": {},
   "source": [
    "The function __is__ a probabilty density function for a continuous random variable"
   ]
  },
  {
   "cell_type": "code",
   "execution_count": 56,
   "metadata": {},
   "outputs": [
    {
     "data": {
      "text/plain": [
       "(1.0000000000000002, 1.1102230246251569e-14)"
      ]
     },
     "execution_count": 56,
     "metadata": {},
     "output_type": "execute_result"
    }
   ],
   "source": [
    "d = lambda x: 1/5 if (x>=0 and x<5) else 0\n",
    "integrate.quad(d, 0, 5)"
   ]
  },
  {
   "cell_type": "markdown",
   "metadata": {},
   "source": [
    "Not sure about this one. In my head it makes sense that it would be 1.0 under the curve but the comp seems to think there is a bit more in there."
   ]
  },
  {
   "cell_type": "code",
   "execution_count": 57,
   "metadata": {},
   "outputs": [
    {
     "data": {
      "text/plain": [
       "(0.9999999990316069, 1.3097361301672826e-08)"
      ]
     },
     "execution_count": 57,
     "metadata": {},
     "output_type": "execute_result"
    }
   ],
   "source": [
    "e = lambda x: x if (x>=0 and x<np.sqrt(2)) else 0\n",
    "integrate.quad(e, 0, 5)"
   ]
  },
  {
   "cell_type": "markdown",
   "metadata": {},
   "source": [
    "Again I believe this may be a probability density function for a continuous random variable"
   ]
  },
  {
   "cell_type": "markdown",
   "metadata": {},
   "source": [
    "### 2)\n",
    "Based on the previous problems the functions with form \n",
    "$$f(t)=\\begin{cases} \\ {ae^{-at}} & x>0, \\\\ 0 & x \\leq 0. \\end{cases}$$ \n",
    "are probability density functions for continuous random variables"
   ]
  },
  {
   "cell_type": "markdown",
   "metadata": {},
   "source": [
    "### 3) for the following functions: Graph, shade AUC between .5 and 1.25, use python to find the AUC\n",
    "Function (c)"
   ]
  },
  {
   "cell_type": "code",
   "execution_count": 58,
   "metadata": {},
   "outputs": [
    {
     "data": {
      "image/png": "[encoded data removed]",
      "text/plain": [
       "<Figure size 432x288 with 1 Axes>"
      ]
     },
     "metadata": {
      "needs_background": "light"
     },
     "output_type": "display_data"
    },
    {
     "data": {
      "text/plain": [
       "(0.17341869763408563, 1.9253343101387004e-15)"
      ]
     },
     "execution_count": 58,
     "metadata": {},
     "output_type": "execute_result"
    }
   ],
   "source": [
    "x = np.arange(0, 5) \n",
    "\n",
    "#integrate.quad(f, 0, np.inf)\n",
    "plt.plot(x, c(x))\n",
    "\n",
    "#This will allow us to shade the area under a specific part of \n",
    "#the curve.\n",
    "x_sub = np.arange(0.5, 1.25, 0.001)\n",
    "plt.fill_between(x_sub, c(x_sub), color = \"red\",alpha = .3, hatch = '|')\n",
    "plt.show()\n",
    "\n",
    "# This will allow us to find the area for the region we shaded. Don't forget to change your bounds if needed!\n",
    "integrate.quad(c, 0.5, 1.25)"
   ]
  },
  {
   "cell_type": "markdown",
   "metadata": {},
   "source": [
    "function (d)"
   ]
  },
  {
   "cell_type": "code",
   "execution_count": 67,
   "metadata": {},
   "outputs": [
    {
     "name": "stderr",
     "output_type": "stream",
     "text": [
      "/home/mongoose/.local/lib/python3.6/site-packages/ipykernel_launcher.py:1: RuntimeWarning: invalid value encountered in true_divide\n",
      "  \"\"\"Entry point for launching an IPython kernel.\n"
     ]
    },
    {
     "data": {
      "text/plain": [
       "(0.15000000000000002, 1.665334536937735e-15)"
      ]
     },
     "execution_count": 67,
     "metadata": {},
     "output_type": "execute_result"
    },
    {
     "data": {
      "image/png": "[encoded data removed]",
      "text/plain": [
       "<Figure size 432x288 with 1 Axes>"
      ]
     },
     "metadata": {},
     "output_type": "display_data"
    }
   ],
   "source": [
    "d = lambda x: 1/5*x/x\n",
    "\n",
    "x = np.linspace(0,5)\n",
    "plt.plot(x, d(x))\n",
    "\n",
    "x_all = np.linspace(-5, 10)\n",
    "plt.plot(x_all, 0*x_all)\n",
    "plt.fill_between(x, d(x), color = \"gray\",alpha = 0.35, hatch = '|')\n",
    "\n",
    "integrate.quad(d, 0.5, 1.25)"
   ]
  },
  {
   "cell_type": "markdown",
   "metadata": {},
   "source": [
    "function (e)"
   ]
  },
  {
   "cell_type": "code",
   "execution_count": 68,
   "metadata": {},
   "outputs": [
    {
     "data": {
      "text/plain": [
       "(0.65625, 7.28583859910259e-15)"
      ]
     },
     "execution_count": 68,
     "metadata": {},
     "output_type": "execute_result"
    },
    {
     "data": {
      "image/png": "[encoded data removed]",
      "text/plain": [
       "<Figure size 432x288 with 1 Axes>"
      ]
     },
     "metadata": {},
     "output_type": "display_data"
    }
   ],
   "source": [
    "e = lambda x: x\n",
    "sqrt = np.sqrt(2)  \n",
    "x = np.linspace(0,sqrt)\n",
    "plt.plot(x, e(x))\n",
    "x_all = np.linspace(-5,5)\n",
    "plt.plot(x_all, 0*x_all)\n",
    "plt.fill_between(x, e(x), color = \"green\",alpha = 0.03, hatch = '|')\n",
    "\n",
    "\n",
    "# This will allow us to find the area for the region we shaded. Don't forget to change your bounds if needed!\n",
    "integrate.quad(e, 0.5, 1.25)"
   ]
  },
  {
   "cell_type": "markdown",
   "metadata": {},
   "source": [
    "### 4) for the standard normal curve, do the following"
   ]
  },
  {
   "cell_type": "markdown",
   "metadata": {},
   "source": [
    "a)graph the curve\n",
    "b)shade area between z=-1.5 and z=2.25\n",
    "c)find that area between z scores"
   ]
  },
  {
   "cell_type": "code",
   "execution_count": 61,
   "metadata": {},
   "outputs": [
    {
     "data": {
      "image/png": "[encoded data removed]",
      "text/plain": [
       "<Figure size 648x432 with 1 Axes>"
      ]
     },
     "metadata": {
      "needs_background": "light"
     },
     "output_type": "display_data"
    }
   ],
   "source": [
    "x = np.arange(-1.5, 2.25, 0.001)\n",
    "x_all = np.arange(-10, 10, 0.001) # entire range of x\n",
    "y = norm.pdf(x,0,1)\n",
    "y2 = norm.pdf(x_all,0,1)\n",
    "# build the plot\n",
    "fig, ax = plt.subplots(figsize=(9,6))\n",
    "plt.style.use('fivethirtyeight')\n",
    "ax.plot(x_all,y2)\n",
    "\n",
    "ax.fill_between(x,y,0, alpha=0.3, color='b')\n",
    "ax.fill_between(x_all,y2,0, alpha=0.1)\n",
    "ax.set_xlim([-4,4])\n",
    "ax.set_xlabel('# of Standard Deviations Outside the Mean')\n",
    "ax.set_yticklabels([])\n",
    "ax.set_title('Standard Normal Curve')\n",
    "\n",
    "plt.show()"
   ]
  },
  {
   "cell_type": "code",
   "execution_count": 62,
   "metadata": {},
   "outputs": [
    {
     "data": {
      "text/plain": [
       "0.9209683260760972"
      ]
     },
     "execution_count": 62,
     "metadata": {},
     "output_type": "execute_result"
    }
   ],
   "source": [
    "AUC = stats.norm.cdf(2.25, 0, 1) - stats.norm.cdf(-1.5, 0, 1)\n",
    "AUC"
   ]
  },
  {
   "cell_type": "markdown",
   "metadata": {},
   "source": [
    "### 5) recent study from CDC. dia bp for women apprx normally distributed. Mean = 80.5 std. dev = 9.9\n",
    "a) graph this \n",
    "\n",
    "b) what proportion of women have a blood pressure lower than 70? Provide the python code and graph for this area \n",
    "\n",
    "c) a bp reading of greater than 90 is hypertension. What proportion of women have hypertension? Provide code and graph"
   ]
  },
  {
   "cell_type": "code",
   "execution_count": 63,
   "metadata": {},
   "outputs": [
    {
     "data": {
      "image/png": "[encoded data removed]",
      "text/plain": [
       "<Figure size 648x432 with 1 Axes>"
      ]
     },
     "metadata": {},
     "output_type": "display_data"
    }
   ],
   "source": [
    "mu = 0\n",
    "#transform stats into z-scores\n",
    "z1 = 1.96\n",
    "z2 = -1.96\n",
    "\n",
    "\n",
    "xLow = np.arange(0, x1, 0.01)\n",
    "xHi = np.arange(x2, 175, 0.01)\n",
    "x_all = np.arange(0, 175, 0.01) # entire range of x\n",
    "yLow = norm.pdf(xLow,mu,sigma)\n",
    "yHi = norm.pdf(xHi,mu,sigma)\n",
    "y2 = norm.pdf(x_all,mu,sigma)\n",
    "# build the plot\n",
    "fig, ax = plt.subplots(figsize=(9,6))\n",
    "plt.style.use('fivethirtyeight')\n",
    "ax.plot(x_all,y2)\n",
    "\n",
    "ax.fill_between(xLow,yLow,0, alpha=0.3, color='b')\n",
    "ax.fill_between(xHi,yHi,0, alpha=0.3, color='b')\n",
    "ax.fill_between(x_all,y2,0, alpha=0.1)\n",
    "ax.set_xlim([0,150])\n",
    "ax.set_xlabel('blood pressure')\n",
    "ax.set_yticklabels([])\n",
    "ax.set_title('Standard Normal Curve')\n",
    "\n",
    "plt.show()"
   ]
  },
  {
   "cell_type": "markdown",
   "metadata": {},
   "source": [
    "#### proportion of women with diastolic pressure under 70"
   ]
  },
  {
   "cell_type": "code",
   "execution_count": 64,
   "metadata": {},
   "outputs": [
    {
     "data": {
      "text/plain": [
       "0.14443448356198263"
      ]
     },
     "execution_count": 64,
     "metadata": {},
     "output_type": "execute_result"
    }
   ],
   "source": [
    "area_under_curve = stats.norm.cdf(z1, 0, 1)\n",
    "area_under_curve"
   ]
  },
  {
   "cell_type": "markdown",
   "metadata": {},
   "source": [
    "#### proportion of women with Diastolic BP over 90"
   ]
  },
  {
   "cell_type": "code",
   "execution_count": 65,
   "metadata": {},
   "outputs": [
    {
     "data": {
      "text/plain": [
       "0.16862930166655943"
      ]
     },
     "execution_count": 65,
     "metadata": {},
     "output_type": "execute_result"
    }
   ],
   "source": [
    "area_under_curve = stats.norm.cdf(np.inf, 0, 1) - stats.norm.cdf(z2,0,1)\n",
    "area_under_curve"
   ]
  }
 ],
 "metadata": {
  "kernelspec": {
   "display_name": "Python 3",
   "language": "python",
   "name": "python3"
  },
  "language_info": {
   "codemirror_mode": {
    "name": "ipython",
    "version": 3
   },
   "file_extension": ".py",
   "mimetype": "text/x-python",
   "name": "python",
   "nbconvert_exporter": "python",
   "pygments_lexer": "ipython3",
   "version": "3.6.9"
  }
 },
 "nbformat": 4,
 "nbformat_minor": 4
}
