{
 "cells": [
  {
   "cell_type": "code",
   "execution_count": 2,
   "metadata": {},
   "outputs": [],
   "source": [
    "from scipy.stats import chi2_contingency\n",
    "import pandas as pd\n",
    "import numpy as np"
   ]
  },
  {
   "cell_type": "code",
   "execution_count": 4,
   "metadata": {},
   "outputs": [],
   "source": [
    "observedBelts = pd.DataFrame([\n",
    "    [175,20,42,6],\n",
    "    [149,17,41,9]\n",
    "    ],\n",
    "    index=['seatbelt', 'no-belt'],\n",
    "    columns=['0 cigs', '1-14', '15-34', '>35'])"
   ]
  },
  {
   "cell_type": "code",
   "execution_count": 5,
   "metadata": {},
   "outputs": [
    {
     "data": {
      "text/plain": [
       "(1.358175464062902,\n",
       " 0.7153672395500257,\n",
       " 3,\n",
       " array([[171.52941176,  19.58823529,  43.94117647,   7.94117647],\n",
       "        [152.47058824,  17.41176471,  39.05882353,   7.05882353]]))"
      ]
     },
     "execution_count": 5,
     "metadata": {},
     "output_type": "execute_result"
    }
   ],
   "source": [
    "chi2_contingency(observedBelts)"
   ]
  },
  {
   "cell_type": "code",
   "execution_count": 6,
   "metadata": {},
   "outputs": [],
   "source": [
    "show = pd.DataFrame([\n",
    "    [45,78,36],\n",
    "    [127,153,54],\n",
    "    [65,23,148]\n",
    "    ],\n",
    "    index=['-21', '21-50', '50+'],\n",
    "    columns=['survivor', 'Big Bro', 'Amaze race'])\n"
   ]
  },
  {
   "cell_type": "code",
   "execution_count": 7,
   "metadata": {},
   "outputs": [
    {
     "data": {
      "text/plain": [
       "(167.18889381024792,\n",
       " 4.195027833023578e-35,\n",
       " 4,\n",
       " array([[ 51.69135802,  55.39917695,  51.90946502],\n",
       "        [108.58436214, 116.37311385, 109.04252401],\n",
       "        [ 76.72427984,  82.22770919,  77.04801097]]))"
      ]
     },
     "execution_count": 7,
     "metadata": {},
     "output_type": "execute_result"
    }
   ],
   "source": [
    "chi2_contingency(show)"
   ]
  },
  {
   "cell_type": "code",
   "execution_count": 10,
   "metadata": {},
   "outputs": [],
   "source": [
    "sports = pd.DataFrame([\n",
    "    [127,53,50,57],\n",
    "    [71,47,43,42]\n",
    "    ],\n",
    "    index=['home wins', 'visitor wins'],\n",
    "    columns=['NBA', 'MLB', 'NHL', 'NFL'])"
   ]
  },
  {
   "cell_type": "code",
   "execution_count": 11,
   "metadata": {},
   "outputs": [
    {
     "data": {
      "text/plain": [
       "(4.737208762521437,\n",
       " 0.19208284575582948,\n",
       " 3,\n",
       " array([[115.97142857,  58.57142857,  54.47142857,  57.98571429],\n",
       "        [ 82.02857143,  41.42857143,  38.52857143,  41.01428571]]))"
      ]
     },
     "execution_count": 11,
     "metadata": {},
     "output_type": "execute_result"
    }
   ],
   "source": [
    "chi2_contingency(sports)"
   ]
  },
  {
   "cell_type": "code",
   "execution_count": null,
   "metadata": {},
   "outputs": [],
   "source": [
    "from"
   ]
  }
 ],
 "metadata": {
  "kernelspec": {
   "display_name": "Python 3.6.9 64-bit",
   "language": "python",
   "name": "python36964bitd2ef80457f9545ce9f0130e836cee88f"
  },
  "language_info": {
   "codemirror_mode": {
    "name": "ipython",
    "version": 3
   },
   "file_extension": ".py",
   "mimetype": "text/x-python",
   "name": "python",
   "nbconvert_exporter": "python",
   "pygments_lexer": "ipython3",
   "version": "3.6.9"
  }
 },
 "nbformat": 4,
 "nbformat_minor": 4
}
