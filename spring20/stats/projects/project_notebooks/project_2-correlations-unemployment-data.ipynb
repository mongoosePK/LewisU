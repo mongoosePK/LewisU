{
 "cells": [
  {
   "cell_type": "markdown",
   "metadata": {},
   "source": [
    "# Project 2 -- William Pulkownik -- Correlating unemployment ad inflation"
   ]
  },
  {
   "cell_type": "markdown",
   "metadata": {},
   "source": [
    "### import our libraries and the file we'll be using"
   ]
  },
  {
   "cell_type": "code",
   "execution_count": 3,
   "metadata": {
    "scrolled": true
   },
   "outputs": [],
   "source": [
    "import pandas as pd\n",
    "import numpy as np\n",
    "import matplotlib.pyplot as plt\n",
    "%matplotlib inline\n",
    "\n",
    "df = pd.read_csv('data/Unemployment_Inflation.csv')"
   ]
  },
  {
   "cell_type": "markdown",
   "metadata": {},
   "source": [
    "### 1) construct a scatterplot of unemployment (y) versus inflation (x). Do you detect any strong nonlinearity?"
   ]
  },
  {
   "cell_type": "code",
   "execution_count": 4,
   "metadata": {},
   "outputs": [
    {
     "data": {
      "text/plain": [
       "Text(0, 0.5, 'unemployment')"
      ]
     },
     "execution_count": 4,
     "metadata": {},
     "output_type": "execute_result"
    },
    {
     "data": {
      "image/png": "[encoded data removed]",
      "text/plain": [
       "<Figure size 432x288 with 1 Axes>"
      ]
     },
     "metadata": {
      "needs_background": "light"
     },
     "output_type": "display_data"
    }
   ],
   "source": [
    "plt.scatter(df['Unemployment'], df['Inflation'])\n",
    "plt.title('unemployment and inflation')\n",
    "plt.xlabel('inflation')\n",
    "plt.ylabel('unemployment')"
   ]
  },
  {
   "cell_type": "markdown",
   "metadata": {},
   "source": [
    "### compute the least-squares line for predicting unemployment from inflation"
   ]
  },
  {
   "cell_type": "code",
   "execution_count": 12,
   "metadata": {
    "scrolled": true
   },
   "outputs": [
    {
     "name": "stdout",
     "output_type": "stream",
     "text": [
      "yhat = -0.5297993705743508+6.496970889063729 = 5.967171518489379\n"
     ]
    },
    {
     "data": {
      "text/plain": [
       "Text(0, 0.5, 'unemployment')"
      ]
     },
     "execution_count": 12,
     "metadata": {},
     "output_type": "execute_result"
    },
    {
     "data": {
      "image/png": "[encoded data removed]",
      "text/plain": [
       "<Figure size 432x288 with 1 Axes>"
      ]
     },
     "metadata": {
      "needs_background": "light"
     },
     "output_type": "display_data"
    }
   ],
   "source": [
    "r = df['Inflation'].corr(df['Unemployment'])\n",
    "sx = df['Inflation'].std()\n",
    "sy = df['Unemployment'].std()\n",
    "xbar = df['Inflation'].mean()\n",
    "ybar = df['Unemployment'].mean()\n",
    "m= r*sy/sx\n",
    "b = ybar - m*xbar\n",
    "\n",
    "print(f'yhat = {m*3}+{b} = {m*3+b}')\n",
    "plt.title(\"Least Squares regression\")\n",
    "plt.scatter(df['Inflation'], df['Unemployment'])\n",
    "plt.plot(df['Inflation'], m*df['Inflation'] + b, color = 'r')\n",
    "plt.xlabel('inflation')\n",
    "plt.ylabel('unemployment')"
   ]
  },
  {
   "cell_type": "code",
   "execution_count": 13,
   "metadata": {
    "scrolled": true
   },
   "outputs": [
    {
     "data": {
      "text/plain": [
       "-0.14842846730331222"
      ]
     },
     "execution_count": 13,
     "metadata": {},
     "output_type": "execute_result"
    }
   ],
   "source": [
    "r"
   ]
  },
  {
   "cell_type": "code",
   "execution_count": 14,
   "metadata": {},
   "outputs": [
    {
     "data": {
      "text/plain": [
       "0.022031009906010424"
      ]
     },
     "execution_count": 14,
     "metadata": {},
     "output_type": "execute_result"
    }
   ],
   "source": [
    "np.square(r)"
   ]
  },
  {
   "cell_type": "code",
   "execution_count": 17,
   "metadata": {},
   "outputs": [
    {
     "name": "stdout",
     "output_type": "stream",
     "text": [
      "yhat = -0.18805399177641308x+6.546530370388026\n",
      "yhat = -0.5641619753292393+6.546530370388026 = 5.982368395058787\n"
     ]
    }
   ],
   "source": [
    "r1 = df['Inflation'].corr(df['Next_Unemployment'])\n",
    "sx1 = df['Inflation'].std()\n",
    "sy1 = df['Next_Unemployment'].std()\n",
    "xbar1 = df['Inflation'].mean()\n",
    "ybar1 = df['Next_Unemployment'].mean()\n",
    "m1= r1*sy1/sx1\n",
    "b1 = ybar1 - m1*xbar1\n",
    "print(f'yhat = {m1}x+{b1}')\n",
    "print(f'yhat = {m1*3}+{b1} = {m1*3+b1}')"
   ]
  },
  {
   "cell_type": "code",
   "execution_count": 33,
   "metadata": {
    "scrolled": true
   },
   "outputs": [
    {
     "data": {
      "text/plain": [
       "[<matplotlib.lines.Line2D at 0x7fd85f11f240>]"
      ]
     },
     "execution_count": 33,
     "metadata": {},
     "output_type": "execute_result"
    },
    {
     "data": {
      "image/png": "[encoded data removed]",
      "text/plain": [
       "<Figure size 432x288 with 1 Axes>"
      ]
     },
     "metadata": {
      "needs_background": "light"
     },
     "output_type": "display_data"
    }
   ],
   "source": [
    "plt.scatter(range(0, len(df['Next_Unemployment'])),m1*df['Next_Unemployment'] + b - df['Inflation'])\n",
    "plt.plot(range(0, len(df['Next_Unemployment'])), 0*df['Next_Unemployment'], color = 'r')"
   ]
  },
  {
   "cell_type": "code",
   "execution_count": 22,
   "metadata": {},
   "outputs": [
    {
     "data": {
      "text/plain": [
       "-0.15548654039322127"
      ]
     },
     "execution_count": 22,
     "metadata": {},
     "output_type": "execute_result"
    }
   ],
   "source": [
    "r1"
   ]
  },
  {
   "cell_type": "code",
   "execution_count": 23,
   "metadata": {
    "scrolled": true
   },
   "outputs": [
    {
     "data": {
      "text/plain": [
       "0.024176064243452828"
      ]
     },
     "execution_count": 23,
     "metadata": {},
     "output_type": "execute_result"
    }
   ],
   "source": [
    "np.square(r1)"
   ]
  },
  {
   "cell_type": "markdown",
   "metadata": {},
   "source": [
    "## Adjust data set for this years unemployment(x) and next year's unemployment(y)"
   ]
  },
  {
   "cell_type": "code",
   "execution_count": 25,
   "metadata": {},
   "outputs": [
    {
     "name": "stdout",
     "output_type": "stream",
     "text": [
      "yhat = 0.8178775753935567(x)+1.120645614513328\n"
     ]
    }
   ],
   "source": [
    "r2 = df['Unemployment'].corr(df['Next_Unemployment'])\n",
    "sx2 = df['Unemployment'].std()\n",
    "sy2 = df['Next_Unemployment'].std()\n",
    "xbar2 = df['Unemployment'].mean()\n",
    "ybar2 = df['Next_Unemployment'].mean()\n",
    "m2= r2*sy2/sx2\n",
    "b2 = ybar2 - m2*xbar2\n",
    "print(f'yhat = {m2}(x)+{b2}')\n",
    "#print(f'yhat = {m1*3}+{b1} = {m1*3+b1}')"
   ]
  },
  {
   "cell_type": "code",
   "execution_count": 29,
   "metadata": {
    "scrolled": true
   },
   "outputs": [
    {
     "data": {
      "text/plain": [
       "Text(0, 0.5, \"Next year's unemployment\")"
      ]
     },
     "execution_count": 29,
     "metadata": {},
     "output_type": "execute_result"
    },
    {
     "data": {
      "image/png": "[encoded data removed]",
      "text/plain": [
       "<Figure size 432x288 with 1 Axes>"
      ]
     },
     "metadata": {
      "needs_background": "light"
     },
     "output_type": "display_data"
    }
   ],
   "source": [
    "plt.title(\"Unemployment trends\")\n",
    "plt.scatter(df['Unemployment'], df['Next_Unemployment'])\n",
    "plt.plot(df['Unemployment'], m2*df['Unemployment']+b2, color = 'r')\n",
    "plt.xlabel('Unemployment')\n",
    "plt.ylabel('Next year\\'s unemployment')"
   ]
  },
  {
   "cell_type": "code",
   "execution_count": 30,
   "metadata": {
    "scrolled": true
   },
   "outputs": [
    {
     "data": {
      "text/plain": [
       "0.8045842470276102"
      ]
     },
     "execution_count": 30,
     "metadata": {},
     "output_type": "execute_result"
    }
   ],
   "source": [
    "r2"
   ]
  },
  {
   "cell_type": "code",
   "execution_count": 34,
   "metadata": {},
   "outputs": [
    {
     "data": {
      "text/plain": [
       "[<matplotlib.lines.Line2D at 0x7fd85f0fb630>]"
      ]
     },
     "execution_count": 34,
     "metadata": {},
     "output_type": "execute_result"
    },
    {
     "data": {
      "image/png": "[encoded data removed]",
      "text/plain": [
       "<Figure size 432x288 with 1 Axes>"
      ]
     },
     "metadata": {
      "needs_background": "light"
     },
     "output_type": "display_data"
    }
   ],
   "source": [
    "plt.scatter(range(0, len(df['Next_Unemployment'])),m2*df['Next_Unemployment'] + b - df['Unemployment'])\n",
    "plt.plot(range(0, len(df['Next_Unemployment'])), 0*df['Next_Unemployment'], color = 'r')"
   ]
  }
 ],
 "metadata": {
  "kernelspec": {
   "display_name": "Python 3",
   "language": "python",
   "name": "python3"
  },
  "language_info": {
   "codemirror_mode": {
    "name": "ipython",
    "version": 3
   },
   "file_extension": ".py",
   "mimetype": "text/x-python",
   "name": "python",
   "nbconvert_exporter": "python",
   "pygments_lexer": "ipython3",
   "version": "3.6.9"
  }
 },
 "nbformat": 4,
 "nbformat_minor": 4
}
