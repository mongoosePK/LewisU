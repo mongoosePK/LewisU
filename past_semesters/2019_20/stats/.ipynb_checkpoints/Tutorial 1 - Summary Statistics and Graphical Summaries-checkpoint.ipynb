{
 "cells": [
  {
   "cell_type": "markdown",
   "metadata": {},
   "source": [
    "# Tutorial 1 - Summary Statistics and Graphical Summaries"
   ]
  },
  {
   "cell_type": "markdown",
   "metadata": {},
   "source": [
    "## Getting Started - Importing Libraries"
   ]
  },
  {
   "cell_type": "markdown",
   "metadata": {},
   "source": [
    "In order to use Python in order to work with data, we need to first tell Python that we wish to make certain tools available to us. In order to do that, we need to import some libraries. "
   ]
  },
  {
   "cell_type": "code",
   "execution_count": null,
   "metadata": {},
   "outputs": [],
   "source": [
    "# Allows us to create Data Frames.\n",
    "import pandas as pd\n",
    "\n",
    "# Stops matplotlib from opening a new window for our plots. \n",
    "%matplotlib inline\n",
    "\n",
    "# Imports plotting functionality.\n",
    "import matplotlib.pyplot as plt\n",
    "\n",
    "# Imports the ability to calculate statistics.\n",
    "import numpy as np"
   ]
  },
  {
   "cell_type": "markdown",
   "metadata": {},
   "source": [
    "## Summary Statistics"
   ]
  },
  {
   "cell_type": "markdown",
   "metadata": {},
   "source": [
    "Before we start importing data, we are going to play around with the basic functionality of our statistics using a list. "
   ]
  },
  {
   "cell_type": "code",
   "execution_count": null,
   "metadata": {},
   "outputs": [],
   "source": [
    "# This is a list of commute times collected from various students. \n",
    "commute = [15, 17, 17, 18, 19, 19, 20, 20, 21, 21, 21, 22, 23, 24, 26, 26, 31, 36, 38]"
   ]
  },
  {
   "cell_type": "markdown",
   "metadata": {},
   "source": [
    "At this point, we can calculate things like mean, standard deviation, and variance."
   ]
  },
  {
   "cell_type": "code",
   "execution_count": 2,
   "metadata": {},
   "outputs": [
    {
     "ename": "NameError",
     "evalue": "name 'np' is not defined",
     "output_type": "error",
     "traceback": [
      "\u001b[0;31m-----------------------------------------------------------------\u001b[0m",
      "\u001b[0;31mNameError\u001b[0m                       Traceback (most recent call last)",
      "\u001b[0;32m<ipython-input-2-c803daf1fc6e>\u001b[0m in \u001b[0;36m<module>\u001b[0;34m\u001b[0m\n\u001b[1;32m      1\u001b[0m \u001b[0;31m# This is the mean of our list.\u001b[0m\u001b[0;34m\u001b[0m\u001b[0;34m\u001b[0m\u001b[0;34m\u001b[0m\u001b[0m\n\u001b[0;32m----> 2\u001b[0;31m \u001b[0mnp\u001b[0m\u001b[0;34m.\u001b[0m\u001b[0mmean\u001b[0m\u001b[0;34m(\u001b[0m\u001b[0mcommute\u001b[0m\u001b[0;34m)\u001b[0m\u001b[0;34m\u001b[0m\u001b[0;34m\u001b[0m\u001b[0m\n\u001b[0m",
      "\u001b[0;31mNameError\u001b[0m: name 'np' is not defined"
     ]
    }
   ],
   "source": [
    "# This is the mean of our list. \n",
    "np.mean(commute)"
   ]
  },
  {
   "cell_type": "code",
   "execution_count": null,
   "metadata": {},
   "outputs": [],
   "source": [
    "# This is the POPULATION standard deviation.\n",
    "np.std(commute) "
   ]
  },
  {
   "cell_type": "code",
   "execution_count": null,
   "metadata": {},
   "outputs": [],
   "source": [
    "# This is the SAMPLE standard deviation. \n",
    "# np.std() defaults to population standard deviation. For sample SD, set ddof = 1.\n",
    "np.std(commute, ddof = 1) "
   ]
  },
  {
   "cell_type": "code",
   "execution_count": null,
   "metadata": {},
   "outputs": [],
   "source": [
    "# This is the POPULATION variance. \n",
    "np.var(commute)"
   ]
  },
  {
   "cell_type": "code",
   "execution_count": null,
   "metadata": {},
   "outputs": [],
   "source": [
    "# This is the SAMPLE variance. \n",
    "# np.var() defaults to population variance. For sample variance, set ddof = 1.\n",
    "np.var(commute, ddof = 1)"
   ]
  },
  {
   "cell_type": "markdown",
   "metadata": {},
   "source": [
    "We can also determine the length of our list, as well as our five-number summary."
   ]
  },
  {
   "cell_type": "code",
   "execution_count": null,
   "metadata": {},
   "outputs": [],
   "source": [
    "# Calculates the sample size.\n",
    "len(commute)"
   ]
  },
  {
   "cell_type": "code",
   "execution_count": null,
   "metadata": {},
   "outputs": [],
   "source": [
    "# This computes the median.\n",
    "np.median(commute)"
   ]
  },
  {
   "cell_type": "code",
   "execution_count": null,
   "metadata": {},
   "outputs": [],
   "source": [
    "# This computes the quartiles, minimum, and maximum for our list.\n",
    "quartiles = np.percentile(commute, [25, 50, 75])\n",
    "commute_min, commute_max = np.min(commute), np.max(commute)\n",
    "print('Min: ', commute_min)\n",
    "print('Q1: ', quartiles[0])\n",
    "print('Q2: ', quartiles[1])\n",
    "print('Q3: ', quartiles[2])\n",
    "print('Max: ', commute_max)"
   ]
  },
  {
   "cell_type": "markdown",
   "metadata": {},
   "source": [
    "## Importing Data"
   ]
  },
  {
   "cell_type": "markdown",
   "metadata": {},
   "source": [
    "Without knowing how to import data, knowing how to calculate the statistics will only get us so far. In order for us to import data, we must know how to direct our program to the file we wish to import. Ask Mr. Smith if you are unsure how to do this when reviewing later."
   ]
  },
  {
   "cell_type": "code",
   "execution_count": null,
   "metadata": {},
   "outputs": [],
   "source": [
    "# Imports our data from \"The National Longitudinal Study \n",
    "# of Adolescent to Adult Health\". More information at https://www.cpc.unc.edu/projects/addhealth\n",
    "df = pd.read_csv('data/add_health_data.csv', index_col=None, encoding='utf-8')"
   ]
  },
  {
   "cell_type": "code",
   "execution_count": null,
   "metadata": {},
   "outputs": [],
   "source": [
    "# Shows the first ten entries of the data frame. This is useful to gain a sense of what your data looks like. \n",
    "df.head(10)"
   ]
  },
  {
   "cell_type": "markdown",
   "metadata": {},
   "source": [
    "Having a data frame provides us with some extra perks in Python, allowing us to quickly determine frequencies and find the mean, standard deviation, and the five-number summary."
   ]
  },
  {
   "cell_type": "code",
   "execution_count": null,
   "metadata": {},
   "outputs": [],
   "source": [
    "# This tells you all unique entries in the BIO_SEX column.\n",
    "df.BIO_SEX.unique()"
   ]
  },
  {
   "cell_type": "code",
   "execution_count": null,
   "metadata": {},
   "outputs": [],
   "source": [
    "# This determines the frequency for each category.  \n",
    "df.BIO_SEX.value_counts()"
   ]
  },
  {
   "cell_type": "code",
   "execution_count": null,
   "metadata": {},
   "outputs": [],
   "source": [
    "# For data frames, df.COLUMN_NAME.describe() will tell you the count, mean, standard deviation, and \n",
    "# five-number summary for COLUMN_NAME. \n",
    "df['BIO_SEX'].describe()\n",
    "# It is worth noting that since we understand these numbers represent categorical data, it does not \n",
    "# make much sense to compute these things. However, this is a demonstration that we could if necessary."
   ]
  },
  {
   "cell_type": "code",
   "execution_count": null,
   "metadata": {},
   "outputs": [],
   "source": [
    "# .describe() also works for non-numeric data, although it will only give us relevant information.\n",
    "df.agew1.describe()"
   ]
  },
  {
   "cell_type": "code",
   "execution_count": null,
   "metadata": {},
   "outputs": [],
   "source": [
    "# Since 'agew1' is a column that should give us the age of the individuals, it should be numeric. \n",
    "# However, it seems to have been imported as a non-numeric type of data (see above). \n",
    "# This code will turn our column into numeric information. \n",
    "columns_to_change = {'agew1'}\n",
    "for col in columns_to_change:\n",
    "    df[col] = pd.to_numeric(df[col], errors='coerce')"
   ]
  },
  {
   "cell_type": "code",
   "execution_count": null,
   "metadata": {},
   "outputs": [],
   "source": [
    "# Now when we run the .describe() command on 'agew1', we obtain the mean, standard deviation, and \n",
    "# five-number summary that we should expect.\n",
    "df.agew1.describe()"
   ]
  },
  {
   "cell_type": "markdown",
   "metadata": {},
   "source": [
    "## Graphical Summaries"
   ]
  },
  {
   "cell_type": "markdown",
   "metadata": {},
   "source": [
    "### Bar Plots"
   ]
  },
  {
   "cell_type": "code",
   "execution_count": null,
   "metadata": {},
   "outputs": [],
   "source": [
    "categories = df.BIO_SEX.unique()\n",
    "amounts = df.BIO_SEX.value_counts()\n",
    "axis_space = np.arange(len(categories))\n",
    "\n",
    "plt.bar(axis_space, amounts, align = 'center', alpha = 0.5)\n",
    "plt.xticks(axis_space, categories)\n",
    "plt.ylabel('Total Respondents')\n",
    "plt.title('Biological Sex Amounts')\n",
    "plt.show()"
   ]
  },
  {
   "cell_type": "code",
   "execution_count": null,
   "metadata": {
    "scrolled": true
   },
   "outputs": [],
   "source": [
    "categories = df.BIO_SEX.unique()\n",
    "amounts = df.BIO_SEX.value_counts()\n",
    "axis_space = np.arange(len(categories))\n",
    "\n",
    "plt.barh(axis_space, amounts, align = 'center', alpha = 0.5)\n",
    "plt.yticks(axis_space, categories)\n",
    "plt.xlabel('Total Respondents')\n",
    "plt.title('Biological Sex Amounts')\n",
    "plt.show()"
   ]
  },
  {
   "cell_type": "markdown",
   "metadata": {},
   "source": [
    "### Pie Charts"
   ]
  },
  {
   "cell_type": "code",
   "execution_count": null,
   "metadata": {},
   "outputs": [],
   "source": [
    "labels = df.BIO_SEX.unique()\n",
    "sizes = df.BIO_SEX.value_counts()\n",
    "colors = ['gold', 'lightcoral', 'lightskyblue']\n",
    "\n",
    "# You can include this code instead of the following two lines containing 'patches' if you prefer to have your \n",
    "# labels on the wedges of the chart.\n",
    "#explode = (0.1, 0, 0)  # explode 1st slice\n",
    "#plt.pie(sizes, explode=explode, labels=labels, colors=colors,\n",
    "#autopct='%1.1f%%', shadow=True, startangle=140)\n",
    "\n",
    "patches, texts = plt.pie(sizes, colors=colors, shadow=True, startangle=90) # Remove if alternate code\n",
    "plt.legend(patches, labels, loc=\"best\") #Remove if alternate code\n",
    "\n",
    "plt.axis('equal')\n",
    "plt.show()"
   ]
  },
  {
   "cell_type": "markdown",
   "metadata": {},
   "source": [
    "### Box Plots"
   ]
  },
  {
   "cell_type": "code",
   "execution_count": null,
   "metadata": {},
   "outputs": [],
   "source": [
    "plt.boxplot(commute);"
   ]
  },
  {
   "cell_type": "code",
   "execution_count": null,
   "metadata": {},
   "outputs": [],
   "source": [
    "plt.boxplot(commute, vert=False);"
   ]
  },
  {
   "cell_type": "markdown",
   "metadata": {},
   "source": [
    "### Time-series Plot"
   ]
  },
  {
   "cell_type": "code",
   "execution_count": null,
   "metadata": {},
   "outputs": [],
   "source": [
    "dji = pd.read_csv('data/DJI.csv')"
   ]
  },
  {
   "cell_type": "code",
   "execution_count": null,
   "metadata": {},
   "outputs": [],
   "source": [
    "dji.head()"
   ]
  },
  {
   "cell_type": "code",
   "execution_count": null,
   "metadata": {},
   "outputs": [],
   "source": [
    "import datetime\n",
    "\n",
    "x = dji.Date\n",
    "y = dji.Open\n",
    "\n",
    "plt.xlabel('Date')\n",
    "plt.ylabel('Opening Price')\n",
    "plt.title('DJI Opening Price from 10/1/2014 to 9/1/2019')\n",
    "plt.plot(x,y)\n",
    "# Here, the numbers indicate the position from left to right that each label should be at.\n",
    "# The words after indicate what to display at each label.\n",
    "# Since this is monthly data, we can count by 12s to place our labels once each year. \n",
    "plt.xticks([0, 12, 24, 36, 48, 59], ('Oct 2014', 'Oct 2015', 'Oct 2016', 'Oct 2017', 'Oct 2018', 'Sept 2019'))\n",
    "plt.show()"
   ]
  },
  {
   "cell_type": "code",
   "execution_count": null,
   "metadata": {},
   "outputs": [],
   "source": []
  }
 ],
 "metadata": {
  "kernelspec": {
   "display_name": "Python 3",
   "language": "python",
   "name": "python3"
  },
  "language_info": {
   "codemirror_mode": {
    "name": "ipython",
    "version": 3
   },
   "file_extension": ".py",
   "mimetype": "text/x-python",
   "name": "python",
   "nbconvert_exporter": "python",
   "pygments_lexer": "ipython3",
   "version": "3.6.9"
  }
 },
 "nbformat": 4,
 "nbformat_minor": 2
}
