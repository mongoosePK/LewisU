{
 "cells": [
  {
   "cell_type": "code",
   "execution_count": 1,
   "metadata": {},
   "outputs": [],
   "source": [
    "import numpy as np\n",
    "import pandas as pd\n",
    "\n",
    "import matplotlib.pyplot as plt\n",
    "%matplotlib inline\n",
    "\n",
    "# Imports our data from the 'data' folder. \n",
    "df = pd.read_csv('data/NFL_Pro_2010.csv')"
   ]
  },
  {
   "cell_type": "code",
   "execution_count": 2,
   "metadata": {},
   "outputs": [
    {
     "data": {
      "text/html": [
       "<div>\n",
       "<style scoped>\n",
       "    .dataframe tbody tr th:only-of-type {\n",
       "        vertical-align: middle;\n",
       "    }\n",
       "\n",
       "    .dataframe tbody tr th {\n",
       "        vertical-align: top;\n",
       "    }\n",
       "\n",
       "    .dataframe thead th {\n",
       "        text-align: right;\n",
       "    }\n",
       "</style>\n",
       "<table border=\"1\" class=\"dataframe\">\n",
       "  <thead>\n",
       "    <tr style=\"text-align: right;\">\n",
       "      <th></th>\n",
       "      <th>Rk</th>\n",
       "      <th>Player</th>\n",
       "      <th>Team</th>\n",
       "      <th>Pos</th>\n",
       "      <th>Att</th>\n",
       "      <th>Att/G</th>\n",
       "      <th>Yds</th>\n",
       "      <th>Avg</th>\n",
       "      <th>Yds/G</th>\n",
       "      <th>TD</th>\n",
       "      <th>Long</th>\n",
       "      <th>1st Downs</th>\n",
       "      <th>1st Down %</th>\n",
       "      <th>20+</th>\n",
       "      <th>40+</th>\n",
       "      <th>FUM</th>\n",
       "    </tr>\n",
       "  </thead>\n",
       "  <tbody>\n",
       "    <tr>\n",
       "      <th>0</th>\n",
       "      <td>1</td>\n",
       "      <td>Arian Foster</td>\n",
       "      <td>HOU</td>\n",
       "      <td>RB</td>\n",
       "      <td>327</td>\n",
       "      <td>20.4</td>\n",
       "      <td>1,616</td>\n",
       "      <td>4.9</td>\n",
       "      <td>101.0</td>\n",
       "      <td>16</td>\n",
       "      <td>74T</td>\n",
       "      <td>89</td>\n",
       "      <td>27.2</td>\n",
       "      <td>12</td>\n",
       "      <td>3</td>\n",
       "      <td>3</td>\n",
       "    </tr>\n",
       "    <tr>\n",
       "      <th>1</th>\n",
       "      <td>2</td>\n",
       "      <td>Maurice Jones-Drew</td>\n",
       "      <td>JAC</td>\n",
       "      <td>RB</td>\n",
       "      <td>299</td>\n",
       "      <td>21.4</td>\n",
       "      <td>1,324</td>\n",
       "      <td>4.4</td>\n",
       "      <td>94.6</td>\n",
       "      <td>5</td>\n",
       "      <td>37</td>\n",
       "      <td>75</td>\n",
       "      <td>25.1</td>\n",
       "      <td>8</td>\n",
       "      <td>0</td>\n",
       "      <td>2</td>\n",
       "    </tr>\n",
       "    <tr>\n",
       "      <th>2</th>\n",
       "      <td>3</td>\n",
       "      <td>Jamaal Charles</td>\n",
       "      <td>KC</td>\n",
       "      <td>RB</td>\n",
       "      <td>230</td>\n",
       "      <td>14.4</td>\n",
       "      <td>1,467</td>\n",
       "      <td>6.4</td>\n",
       "      <td>91.7</td>\n",
       "      <td>5</td>\n",
       "      <td>80</td>\n",
       "      <td>70</td>\n",
       "      <td>30.4</td>\n",
       "      <td>10</td>\n",
       "      <td>3</td>\n",
       "      <td>2</td>\n",
       "    </tr>\n",
       "    <tr>\n",
       "      <th>3</th>\n",
       "      <td>4</td>\n",
       "      <td>Darren McFadden</td>\n",
       "      <td>OAK</td>\n",
       "      <td>RB</td>\n",
       "      <td>223</td>\n",
       "      <td>17.2</td>\n",
       "      <td>1,157</td>\n",
       "      <td>5.2</td>\n",
       "      <td>89.0</td>\n",
       "      <td>7</td>\n",
       "      <td>57T</td>\n",
       "      <td>45</td>\n",
       "      <td>20.2</td>\n",
       "      <td>14</td>\n",
       "      <td>4</td>\n",
       "      <td>3</td>\n",
       "    </tr>\n",
       "    <tr>\n",
       "      <th>4</th>\n",
       "      <td>5</td>\n",
       "      <td>Adrian Peterson</td>\n",
       "      <td>MIN</td>\n",
       "      <td>RB</td>\n",
       "      <td>283</td>\n",
       "      <td>18.9</td>\n",
       "      <td>1,298</td>\n",
       "      <td>4.6</td>\n",
       "      <td>86.5</td>\n",
       "      <td>12</td>\n",
       "      <td>80T</td>\n",
       "      <td>70</td>\n",
       "      <td>24.7</td>\n",
       "      <td>9</td>\n",
       "      <td>2</td>\n",
       "      <td>1</td>\n",
       "    </tr>\n",
       "  </tbody>\n",
       "</table>\n",
       "</div>"
      ],
      "text/plain": [
       "   Rk              Player Team Pos  Att  Att/G    Yds  Avg  Yds/G  TD Long  \\\n",
       "0   1        Arian Foster  HOU  RB  327   20.4  1,616  4.9  101.0  16  74T   \n",
       "1   2  Maurice Jones-Drew  JAC  RB  299   21.4  1,324  4.4   94.6   5   37   \n",
       "2   3      Jamaal Charles   KC  RB  230   14.4  1,467  6.4   91.7   5   80   \n",
       "3   4     Darren McFadden  OAK  RB  223   17.2  1,157  5.2   89.0   7  57T   \n",
       "4   5     Adrian Peterson  MIN  RB  283   18.9  1,298  4.6   86.5  12  80T   \n",
       "\n",
       "   1st Downs  1st Down %  20+  40+  FUM  \n",
       "0         89        27.2   12    3    3  \n",
       "1         75        25.1    8    0    2  \n",
       "2         70        30.4   10    3    2  \n",
       "3         45        20.2   14    4    3  \n",
       "4         70        24.7    9    2    1  "
      ]
     },
     "execution_count": 2,
     "metadata": {},
     "output_type": "execute_result"
    }
   ],
   "source": [
    "df.head()"
   ]
  },
  {
   "cell_type": "code",
   "execution_count": 3,
   "metadata": {},
   "outputs": [
    {
     "data": {
      "text/html": [
       "<div>\n",
       "<style scoped>\n",
       "    .dataframe tbody tr th:only-of-type {\n",
       "        vertical-align: middle;\n",
       "    }\n",
       "\n",
       "    .dataframe tbody tr th {\n",
       "        vertical-align: top;\n",
       "    }\n",
       "\n",
       "    .dataframe thead th {\n",
       "        text-align: right;\n",
       "    }\n",
       "</style>\n",
       "<table border=\"1\" class=\"dataframe\">\n",
       "  <thead>\n",
       "    <tr style=\"text-align: right;\">\n",
       "      <th></th>\n",
       "      <th>Rk</th>\n",
       "      <th>Att</th>\n",
       "      <th>Att/G</th>\n",
       "      <th>Avg</th>\n",
       "      <th>Yds/G</th>\n",
       "      <th>TD</th>\n",
       "      <th>1st Downs</th>\n",
       "      <th>1st Down %</th>\n",
       "      <th>20+</th>\n",
       "      <th>40+</th>\n",
       "      <th>FUM</th>\n",
       "    </tr>\n",
       "  </thead>\n",
       "  <tbody>\n",
       "    <tr>\n",
       "      <th>count</th>\n",
       "      <td>143.000000</td>\n",
       "      <td>143.000000</td>\n",
       "      <td>143.000000</td>\n",
       "      <td>143.000000</td>\n",
       "      <td>143.000000</td>\n",
       "      <td>143.000000</td>\n",
       "      <td>143.000000</td>\n",
       "      <td>143.000000</td>\n",
       "      <td>143.000000</td>\n",
       "      <td>143.000000</td>\n",
       "      <td>143.000000</td>\n",
       "    </tr>\n",
       "    <tr>\n",
       "      <th>mean</th>\n",
       "      <td>71.832168</td>\n",
       "      <td>84.132867</td>\n",
       "      <td>6.538462</td>\n",
       "      <td>3.553846</td>\n",
       "      <td>27.020979</td>\n",
       "      <td>2.405594</td>\n",
       "      <td>17.713287</td>\n",
       "      <td>23.751748</td>\n",
       "      <td>2.132867</td>\n",
       "      <td>0.398601</td>\n",
       "      <td>0.909091</td>\n",
       "    </tr>\n",
       "    <tr>\n",
       "      <th>std</th>\n",
       "      <td>41.232420</td>\n",
       "      <td>93.995672</td>\n",
       "      <td>6.172930</td>\n",
       "      <td>1.586775</td>\n",
       "      <td>27.406211</td>\n",
       "      <td>3.363511</td>\n",
       "      <td>20.000571</td>\n",
       "      <td>19.139215</td>\n",
       "      <td>3.241973</td>\n",
       "      <td>0.873231</td>\n",
       "      <td>1.505432</td>\n",
       "    </tr>\n",
       "    <tr>\n",
       "      <th>min</th>\n",
       "      <td>1.000000</td>\n",
       "      <td>1.000000</td>\n",
       "      <td>0.100000</td>\n",
       "      <td>-3.000000</td>\n",
       "      <td>-0.500000</td>\n",
       "      <td>0.000000</td>\n",
       "      <td>0.000000</td>\n",
       "      <td>0.000000</td>\n",
       "      <td>0.000000</td>\n",
       "      <td>0.000000</td>\n",
       "      <td>0.000000</td>\n",
       "    </tr>\n",
       "    <tr>\n",
       "      <th>25%</th>\n",
       "      <td>36.500000</td>\n",
       "      <td>9.000000</td>\n",
       "      <td>1.200000</td>\n",
       "      <td>2.800000</td>\n",
       "      <td>3.800000</td>\n",
       "      <td>0.000000</td>\n",
       "      <td>2.000000</td>\n",
       "      <td>15.600000</td>\n",
       "      <td>0.000000</td>\n",
       "      <td>0.000000</td>\n",
       "      <td>0.000000</td>\n",
       "    </tr>\n",
       "    <tr>\n",
       "      <th>50%</th>\n",
       "      <td>72.000000</td>\n",
       "      <td>41.000000</td>\n",
       "      <td>4.500000</td>\n",
       "      <td>3.800000</td>\n",
       "      <td>17.600000</td>\n",
       "      <td>1.000000</td>\n",
       "      <td>9.000000</td>\n",
       "      <td>20.200000</td>\n",
       "      <td>1.000000</td>\n",
       "      <td>0.000000</td>\n",
       "      <td>0.000000</td>\n",
       "    </tr>\n",
       "    <tr>\n",
       "      <th>75%</th>\n",
       "      <td>107.500000</td>\n",
       "      <td>142.000000</td>\n",
       "      <td>11.350000</td>\n",
       "      <td>4.450000</td>\n",
       "      <td>45.950000</td>\n",
       "      <td>4.000000</td>\n",
       "      <td>26.500000</td>\n",
       "      <td>25.400000</td>\n",
       "      <td>3.000000</td>\n",
       "      <td>0.000000</td>\n",
       "      <td>1.000000</td>\n",
       "    </tr>\n",
       "    <tr>\n",
       "      <th>max</th>\n",
       "      <td>143.000000</td>\n",
       "      <td>334.000000</td>\n",
       "      <td>21.400000</td>\n",
       "      <td>6.800000</td>\n",
       "      <td>101.000000</td>\n",
       "      <td>16.000000</td>\n",
       "      <td>89.000000</td>\n",
       "      <td>100.000000</td>\n",
       "      <td>14.000000</td>\n",
       "      <td>5.000000</td>\n",
       "      <td>8.000000</td>\n",
       "    </tr>\n",
       "  </tbody>\n",
       "</table>\n",
       "</div>"
      ],
      "text/plain": [
       "               Rk         Att       Att/G         Avg       Yds/G          TD  \\\n",
       "count  143.000000  143.000000  143.000000  143.000000  143.000000  143.000000   \n",
       "mean    71.832168   84.132867    6.538462    3.553846   27.020979    2.405594   \n",
       "std     41.232420   93.995672    6.172930    1.586775   27.406211    3.363511   \n",
       "min      1.000000    1.000000    0.100000   -3.000000   -0.500000    0.000000   \n",
       "25%     36.500000    9.000000    1.200000    2.800000    3.800000    0.000000   \n",
       "50%     72.000000   41.000000    4.500000    3.800000   17.600000    1.000000   \n",
       "75%    107.500000  142.000000   11.350000    4.450000   45.950000    4.000000   \n",
       "max    143.000000  334.000000   21.400000    6.800000  101.000000   16.000000   \n",
       "\n",
       "        1st Downs  1st Down %         20+         40+         FUM  \n",
       "count  143.000000  143.000000  143.000000  143.000000  143.000000  \n",
       "mean    17.713287   23.751748    2.132867    0.398601    0.909091  \n",
       "std     20.000571   19.139215    3.241973    0.873231    1.505432  \n",
       "min      0.000000    0.000000    0.000000    0.000000    0.000000  \n",
       "25%      2.000000   15.600000    0.000000    0.000000    0.000000  \n",
       "50%      9.000000   20.200000    1.000000    0.000000    0.000000  \n",
       "75%     26.500000   25.400000    3.000000    0.000000    1.000000  \n",
       "max     89.000000  100.000000   14.000000    5.000000    8.000000  "
      ]
     },
     "execution_count": 3,
     "metadata": {},
     "output_type": "execute_result"
    }
   ],
   "source": [
    "df.describe()"
   ]
  },
  {
   "cell_type": "markdown",
   "metadata": {},
   "source": [
    "## Scatter Plot"
   ]
  },
  {
   "cell_type": "code",
   "execution_count": 4,
   "metadata": {},
   "outputs": [
    {
     "data": {
      "text/plain": [
       "<matplotlib.collections.PathCollection at 0x7f626949c9e8>"
      ]
     },
     "execution_count": 4,
     "metadata": {},
     "output_type": "execute_result"
    },
    {
     "data": {
      "image/png": "[encoded data removed]",
      "text/plain": [
       "<Figure size 432x288 with 1 Axes>"
      ]
     },
     "metadata": {
      "needs_background": "light"
     },
     "output_type": "display_data"
    }
   ],
   "source": [
    "plt.scatter(df['Att'], df['TD'])"
   ]
  },
  {
   "cell_type": "markdown",
   "metadata": {},
   "source": [
    "## Correlation Coefficients"
   ]
  },
  {
   "cell_type": "code",
   "execution_count": 5,
   "metadata": {},
   "outputs": [
    {
     "name": "stdout",
     "output_type": "stream",
     "text": [
      "                  Rk       Att     Att/G       Avg     Yds/G        TD  \\\n",
      "Rk          1.000000 -0.852703 -0.934392 -0.612611 -0.940283 -0.725131   \n",
      "Att        -0.852703  1.000000  0.935290  0.358358  0.922533  0.858227   \n",
      "Att/G      -0.934392  0.935290  1.000000  0.386962  0.975748  0.784711   \n",
      "Avg        -0.612611  0.358358  0.386962  1.000000  0.470104  0.323375   \n",
      "Yds/G      -0.940283  0.922533  0.975748  0.470104  1.000000  0.796250   \n",
      "TD         -0.725131  0.858227  0.784711  0.323375  0.796250  1.000000   \n",
      "1st Downs  -0.832665  0.963946  0.896322  0.400972  0.917304  0.877519   \n",
      "1st Down %  0.165619 -0.127064 -0.179478  0.174828 -0.135423 -0.067179   \n",
      "20+        -0.741491  0.833763  0.784113  0.400659  0.846353  0.802940   \n",
      "40+        -0.539127  0.597015  0.556163  0.335085  0.640079  0.541588   \n",
      "FUM        -0.593487  0.664726  0.630421  0.262966  0.633468  0.577552   \n",
      "\n",
      "            1st Downs  1st Down %       20+       40+       FUM  \n",
      "Rk          -0.832665    0.165619 -0.741491 -0.539127 -0.593487  \n",
      "Att          0.963946   -0.127064  0.833763  0.597015  0.664726  \n",
      "Att/G        0.896322   -0.179478  0.784113  0.556163  0.630421  \n",
      "Avg          0.400972    0.174828  0.400659  0.335085  0.262966  \n",
      "Yds/G        0.917304   -0.135423  0.846353  0.640079  0.633468  \n",
      "TD           0.877519   -0.067179  0.802940  0.541588  0.577552  \n",
      "1st Downs    1.000000   -0.035828  0.840996  0.601739  0.637643  \n",
      "1st Down %  -0.035828    1.000000 -0.081136 -0.048141 -0.102710  \n",
      "20+          0.840996   -0.081136  1.000000  0.757278  0.575330  \n",
      "40+          0.601739   -0.048141  0.757278  1.000000  0.402749  \n",
      "FUM          0.637643   -0.102710  0.575330  0.402749  1.000000  \n"
     ]
    }
   ],
   "source": [
    "# This will compute and display all of your correlation coefficients.\n",
    "corr = df.corr()\n",
    "print(corr)"
   ]
  },
  {
   "cell_type": "code",
   "execution_count": 6,
   "metadata": {},
   "outputs": [
    {
     "data": {
      "text/plain": [
       "0.8582265776685768"
      ]
     },
     "execution_count": 6,
     "metadata": {},
     "output_type": "execute_result"
    }
   ],
   "source": [
    "# This can find the correlation coefficient between two specific variables.\n",
    "r = df['Att'].corr(df['TD'])\n",
    "r"
   ]
  },
  {
   "cell_type": "markdown",
   "metadata": {},
   "source": [
    "## Plotting the Least-Squares Regression Line"
   ]
  },
  {
   "cell_type": "code",
   "execution_count": 7,
   "metadata": {},
   "outputs": [],
   "source": [
    "r = df['Att'].corr(df['TD'])\n",
    "sx = df['Att'].std()\n",
    "sy = df['TD'].std()\n",
    "xbar = df['Att'].mean()\n",
    "ybar = df['TD'].mean()\n",
    "\n",
    "m = r*sy/sx\n",
    "b = ybar - m*xbar"
   ]
  },
  {
   "cell_type": "code",
   "execution_count": 8,
   "metadata": {},
   "outputs": [
    {
     "data": {
      "text/plain": [
       "[<matplotlib.lines.Line2D at 0x7f6268da7cf8>]"
      ]
     },
     "execution_count": 8,
     "metadata": {},
     "output_type": "execute_result"
    },
    {
     "data": {
      "image/png": "[encoded data removed]",
      "text/plain": [
       "<Figure size 432x288 with 1 Axes>"
      ]
     },
     "metadata": {
      "needs_background": "light"
     },
     "output_type": "display_data"
    }
   ],
   "source": [
    "plt.scatter(df['Att'], df['TD'])\n",
    "plt.plot(df['Att'], m*df['Att'] + b, color = 'r')"
   ]
  },
  {
   "cell_type": "markdown",
   "metadata": {},
   "source": [
    "## Coefficient of Determination"
   ]
  },
  {
   "cell_type": "code",
   "execution_count": 9,
   "metadata": {},
   "outputs": [
    {
     "data": {
      "text/plain": [
       "0.7365528586167177"
      ]
     },
     "execution_count": 9,
     "metadata": {},
     "output_type": "execute_result"
    }
   ],
   "source": [
    "np.square(r)"
   ]
  },
  {
   "cell_type": "markdown",
   "metadata": {},
   "source": [
    "## Plugging in a Specific Value"
   ]
  },
  {
   "cell_type": "code",
   "execution_count": 10,
   "metadata": {},
   "outputs": [
    {
     "data": {
      "text/plain": [
       "2.892882098841734"
      ]
     },
     "execution_count": 10,
     "metadata": {},
     "output_type": "execute_result"
    }
   ],
   "source": [
    "m*100+b"
   ]
  },
  {
   "cell_type": "markdown",
   "metadata": {},
   "source": [
    "## Residual Plot"
   ]
  },
  {
   "cell_type": "code",
   "execution_count": 11,
   "metadata": {},
   "outputs": [
    {
     "data": {
      "text/plain": [
       "[<matplotlib.lines.Line2D at 0x7f6268cedb38>]"
      ]
     },
     "execution_count": 11,
     "metadata": {},
     "output_type": "execute_result"
    },
    {
     "data": {
      "image/png": "[encoded data removed]",
      "text/plain": [
       "<Figure size 432x288 with 1 Axes>"
      ]
     },
     "metadata": {
      "needs_background": "light"
     },
     "output_type": "display_data"
    }
   ],
   "source": [
    "plt.scatter(range(0, len(df['Att'])),m*df['Att'] + b - df['TD'])\n",
    "plt.plot(range(0, len(df['Att'])), 0*df['Att'], color = 'r')"
   ]
  },
  {
   "cell_type": "code",
   "execution_count": null,
   "metadata": {},
   "outputs": [],
   "source": []
  }
 ],
 "metadata": {
  "kernelspec": {
   "display_name": "Python 3",
   "language": "python",
   "name": "python3"
  },
  "language_info": {
   "codemirror_mode": {
    "name": "ipython",
    "version": 3
   },
   "file_extension": ".py",
   "mimetype": "text/x-python",
   "name": "python",
   "nbconvert_exporter": "python",
   "pygments_lexer": "ipython3",
   "version": "3.6.9"
  }
 },
 "nbformat": 4,
 "nbformat_minor": 2
}
